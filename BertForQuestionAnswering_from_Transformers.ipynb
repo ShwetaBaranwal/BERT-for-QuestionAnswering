{
  "nbformat": 4,
  "nbformat_minor": 0,
  "metadata": {
    "colab": {
      "name": "BertForQuestionAnswering_from_Transformers.ipynb",
      "provenance": [],
      "collapsed_sections": [],
      "toc_visible": true,
      "authorship_tag": "ABX9TyPisx2FoDQvOP16rn3khReu",
      "include_colab_link": true
    },
    "kernelspec": {
      "name": "python3",
      "display_name": "Python 3"
    },
    "accelerator": "GPU",
    "widgets": {
      "application/vnd.jupyter.widget-state+json": {
        "6d4caa0d301c49e9ad09de3fb9c2c17b": {
          "model_module": "@jupyter-widgets/controls",
          "model_name": "HBoxModel",
          "state": {
            "_view_name": "HBoxView",
            "_dom_classes": [],
            "_model_name": "HBoxModel",
            "_view_module": "@jupyter-widgets/controls",
            "_model_module_version": "1.5.0",
            "_view_count": null,
            "_view_module_version": "1.5.0",
            "box_style": "",
            "layout": "IPY_MODEL_38a03e31fd5c47d184c573fc66f5bd7f",
            "_model_module": "@jupyter-widgets/controls",
            "children": [
              "IPY_MODEL_e55a2eeedeaf4800a3996980089aade2",
              "IPY_MODEL_b4d850ad95384fa99d19ec50f8105174"
            ]
          }
        },
        "38a03e31fd5c47d184c573fc66f5bd7f": {
          "model_module": "@jupyter-widgets/base",
          "model_name": "LayoutModel",
          "state": {
            "_view_name": "LayoutView",
            "grid_template_rows": null,
            "right": null,
            "justify_content": null,
            "_view_module": "@jupyter-widgets/base",
            "overflow": null,
            "_model_module_version": "1.2.0",
            "_view_count": null,
            "flex_flow": null,
            "width": null,
            "min_width": null,
            "border": null,
            "align_items": null,
            "bottom": null,
            "_model_module": "@jupyter-widgets/base",
            "top": null,
            "grid_column": null,
            "overflow_y": null,
            "overflow_x": null,
            "grid_auto_flow": null,
            "grid_area": null,
            "grid_template_columns": null,
            "flex": null,
            "_model_name": "LayoutModel",
            "justify_items": null,
            "grid_row": null,
            "max_height": null,
            "align_content": null,
            "visibility": null,
            "align_self": null,
            "height": null,
            "min_height": null,
            "padding": null,
            "grid_auto_rows": null,
            "grid_gap": null,
            "max_width": null,
            "order": null,
            "_view_module_version": "1.2.0",
            "grid_template_areas": null,
            "object_position": null,
            "object_fit": null,
            "grid_auto_columns": null,
            "margin": null,
            "display": null,
            "left": null
          }
        },
        "e55a2eeedeaf4800a3996980089aade2": {
          "model_module": "@jupyter-widgets/controls",
          "model_name": "IntProgressModel",
          "state": {
            "_view_name": "ProgressView",
            "style": "IPY_MODEL_56601a3614c147f792fd19307059fd1e",
            "_dom_classes": [],
            "description": "Downloading: 100%",
            "_model_name": "IntProgressModel",
            "bar_style": "success",
            "max": 231508,
            "_view_module": "@jupyter-widgets/controls",
            "_model_module_version": "1.5.0",
            "value": 231508,
            "_view_count": null,
            "_view_module_version": "1.5.0",
            "orientation": "horizontal",
            "min": 0,
            "description_tooltip": null,
            "_model_module": "@jupyter-widgets/controls",
            "layout": "IPY_MODEL_574d4330c8944bf68b3d5afc8cbeabf7"
          }
        },
        "b4d850ad95384fa99d19ec50f8105174": {
          "model_module": "@jupyter-widgets/controls",
          "model_name": "HTMLModel",
          "state": {
            "_view_name": "HTMLView",
            "style": "IPY_MODEL_3b080aabe02f4fb39a734093f6f5c0d3",
            "_dom_classes": [],
            "description": "",
            "_model_name": "HTMLModel",
            "placeholder": "​",
            "_view_module": "@jupyter-widgets/controls",
            "_model_module_version": "1.5.0",
            "value": " 232k/232k [00:00&lt;00:00, 391kB/s]",
            "_view_count": null,
            "_view_module_version": "1.5.0",
            "description_tooltip": null,
            "_model_module": "@jupyter-widgets/controls",
            "layout": "IPY_MODEL_8f2c01bd903248979580d4f87ed984d3"
          }
        },
        "56601a3614c147f792fd19307059fd1e": {
          "model_module": "@jupyter-widgets/controls",
          "model_name": "ProgressStyleModel",
          "state": {
            "_view_name": "StyleView",
            "_model_name": "ProgressStyleModel",
            "description_width": "initial",
            "_view_module": "@jupyter-widgets/base",
            "_model_module_version": "1.5.0",
            "_view_count": null,
            "_view_module_version": "1.2.0",
            "bar_color": null,
            "_model_module": "@jupyter-widgets/controls"
          }
        },
        "574d4330c8944bf68b3d5afc8cbeabf7": {
          "model_module": "@jupyter-widgets/base",
          "model_name": "LayoutModel",
          "state": {
            "_view_name": "LayoutView",
            "grid_template_rows": null,
            "right": null,
            "justify_content": null,
            "_view_module": "@jupyter-widgets/base",
            "overflow": null,
            "_model_module_version": "1.2.0",
            "_view_count": null,
            "flex_flow": null,
            "width": null,
            "min_width": null,
            "border": null,
            "align_items": null,
            "bottom": null,
            "_model_module": "@jupyter-widgets/base",
            "top": null,
            "grid_column": null,
            "overflow_y": null,
            "overflow_x": null,
            "grid_auto_flow": null,
            "grid_area": null,
            "grid_template_columns": null,
            "flex": null,
            "_model_name": "LayoutModel",
            "justify_items": null,
            "grid_row": null,
            "max_height": null,
            "align_content": null,
            "visibility": null,
            "align_self": null,
            "height": null,
            "min_height": null,
            "padding": null,
            "grid_auto_rows": null,
            "grid_gap": null,
            "max_width": null,
            "order": null,
            "_view_module_version": "1.2.0",
            "grid_template_areas": null,
            "object_position": null,
            "object_fit": null,
            "grid_auto_columns": null,
            "margin": null,
            "display": null,
            "left": null
          }
        },
        "3b080aabe02f4fb39a734093f6f5c0d3": {
          "model_module": "@jupyter-widgets/controls",
          "model_name": "DescriptionStyleModel",
          "state": {
            "_view_name": "StyleView",
            "_model_name": "DescriptionStyleModel",
            "description_width": "",
            "_view_module": "@jupyter-widgets/base",
            "_model_module_version": "1.5.0",
            "_view_count": null,
            "_view_module_version": "1.2.0",
            "_model_module": "@jupyter-widgets/controls"
          }
        },
        "8f2c01bd903248979580d4f87ed984d3": {
          "model_module": "@jupyter-widgets/base",
          "model_name": "LayoutModel",
          "state": {
            "_view_name": "LayoutView",
            "grid_template_rows": null,
            "right": null,
            "justify_content": null,
            "_view_module": "@jupyter-widgets/base",
            "overflow": null,
            "_model_module_version": "1.2.0",
            "_view_count": null,
            "flex_flow": null,
            "width": null,
            "min_width": null,
            "border": null,
            "align_items": null,
            "bottom": null,
            "_model_module": "@jupyter-widgets/base",
            "top": null,
            "grid_column": null,
            "overflow_y": null,
            "overflow_x": null,
            "grid_auto_flow": null,
            "grid_area": null,
            "grid_template_columns": null,
            "flex": null,
            "_model_name": "LayoutModel",
            "justify_items": null,
            "grid_row": null,
            "max_height": null,
            "align_content": null,
            "visibility": null,
            "align_self": null,
            "height": null,
            "min_height": null,
            "padding": null,
            "grid_auto_rows": null,
            "grid_gap": null,
            "max_width": null,
            "order": null,
            "_view_module_version": "1.2.0",
            "grid_template_areas": null,
            "object_position": null,
            "object_fit": null,
            "grid_auto_columns": null,
            "margin": null,
            "display": null,
            "left": null
          }
        },
        "e10808e137504f278d7d8ff18f3c6898": {
          "model_module": "@jupyter-widgets/controls",
          "model_name": "HBoxModel",
          "state": {
            "_view_name": "HBoxView",
            "_dom_classes": [],
            "_model_name": "HBoxModel",
            "_view_module": "@jupyter-widgets/controls",
            "_model_module_version": "1.5.0",
            "_view_count": null,
            "_view_module_version": "1.5.0",
            "box_style": "",
            "layout": "IPY_MODEL_2ee30e8a8a2f4e158d25b1c113330e65",
            "_model_module": "@jupyter-widgets/controls",
            "children": [
              "IPY_MODEL_1b50da3a4d234c7eac5d6e52c78a3421",
              "IPY_MODEL_ed8450f2914e42f793c8aa6dc6dd936d"
            ]
          }
        },
        "2ee30e8a8a2f4e158d25b1c113330e65": {
          "model_module": "@jupyter-widgets/base",
          "model_name": "LayoutModel",
          "state": {
            "_view_name": "LayoutView",
            "grid_template_rows": null,
            "right": null,
            "justify_content": null,
            "_view_module": "@jupyter-widgets/base",
            "overflow": null,
            "_model_module_version": "1.2.0",
            "_view_count": null,
            "flex_flow": null,
            "width": null,
            "min_width": null,
            "border": null,
            "align_items": null,
            "bottom": null,
            "_model_module": "@jupyter-widgets/base",
            "top": null,
            "grid_column": null,
            "overflow_y": null,
            "overflow_x": null,
            "grid_auto_flow": null,
            "grid_area": null,
            "grid_template_columns": null,
            "flex": null,
            "_model_name": "LayoutModel",
            "justify_items": null,
            "grid_row": null,
            "max_height": null,
            "align_content": null,
            "visibility": null,
            "align_self": null,
            "height": null,
            "min_height": null,
            "padding": null,
            "grid_auto_rows": null,
            "grid_gap": null,
            "max_width": null,
            "order": null,
            "_view_module_version": "1.2.0",
            "grid_template_areas": null,
            "object_position": null,
            "object_fit": null,
            "grid_auto_columns": null,
            "margin": null,
            "display": null,
            "left": null
          }
        },
        "1b50da3a4d234c7eac5d6e52c78a3421": {
          "model_module": "@jupyter-widgets/controls",
          "model_name": "IntProgressModel",
          "state": {
            "_view_name": "ProgressView",
            "style": "IPY_MODEL_a1d14a39aef940f8a9f66774e498c52a",
            "_dom_classes": [],
            "description": "Downloading: 100%",
            "_model_name": "IntProgressModel",
            "bar_style": "success",
            "max": 361,
            "_view_module": "@jupyter-widgets/controls",
            "_model_module_version": "1.5.0",
            "value": 361,
            "_view_count": null,
            "_view_module_version": "1.5.0",
            "orientation": "horizontal",
            "min": 0,
            "description_tooltip": null,
            "_model_module": "@jupyter-widgets/controls",
            "layout": "IPY_MODEL_06a92a7019e1419d8120df2bee52de73"
          }
        },
        "ed8450f2914e42f793c8aa6dc6dd936d": {
          "model_module": "@jupyter-widgets/controls",
          "model_name": "HTMLModel",
          "state": {
            "_view_name": "HTMLView",
            "style": "IPY_MODEL_6ec50d6475734d8fadf2aa62c86cd48c",
            "_dom_classes": [],
            "description": "",
            "_model_name": "HTMLModel",
            "placeholder": "​",
            "_view_module": "@jupyter-widgets/controls",
            "_model_module_version": "1.5.0",
            "value": " 361/361 [00:42&lt;00:00, 8.45B/s]",
            "_view_count": null,
            "_view_module_version": "1.5.0",
            "description_tooltip": null,
            "_model_module": "@jupyter-widgets/controls",
            "layout": "IPY_MODEL_1e361d464cb54a59873f97de3d14d63a"
          }
        },
        "a1d14a39aef940f8a9f66774e498c52a": {
          "model_module": "@jupyter-widgets/controls",
          "model_name": "ProgressStyleModel",
          "state": {
            "_view_name": "StyleView",
            "_model_name": "ProgressStyleModel",
            "description_width": "initial",
            "_view_module": "@jupyter-widgets/base",
            "_model_module_version": "1.5.0",
            "_view_count": null,
            "_view_module_version": "1.2.0",
            "bar_color": null,
            "_model_module": "@jupyter-widgets/controls"
          }
        },
        "06a92a7019e1419d8120df2bee52de73": {
          "model_module": "@jupyter-widgets/base",
          "model_name": "LayoutModel",
          "state": {
            "_view_name": "LayoutView",
            "grid_template_rows": null,
            "right": null,
            "justify_content": null,
            "_view_module": "@jupyter-widgets/base",
            "overflow": null,
            "_model_module_version": "1.2.0",
            "_view_count": null,
            "flex_flow": null,
            "width": null,
            "min_width": null,
            "border": null,
            "align_items": null,
            "bottom": null,
            "_model_module": "@jupyter-widgets/base",
            "top": null,
            "grid_column": null,
            "overflow_y": null,
            "overflow_x": null,
            "grid_auto_flow": null,
            "grid_area": null,
            "grid_template_columns": null,
            "flex": null,
            "_model_name": "LayoutModel",
            "justify_items": null,
            "grid_row": null,
            "max_height": null,
            "align_content": null,
            "visibility": null,
            "align_self": null,
            "height": null,
            "min_height": null,
            "padding": null,
            "grid_auto_rows": null,
            "grid_gap": null,
            "max_width": null,
            "order": null,
            "_view_module_version": "1.2.0",
            "grid_template_areas": null,
            "object_position": null,
            "object_fit": null,
            "grid_auto_columns": null,
            "margin": null,
            "display": null,
            "left": null
          }
        },
        "6ec50d6475734d8fadf2aa62c86cd48c": {
          "model_module": "@jupyter-widgets/controls",
          "model_name": "DescriptionStyleModel",
          "state": {
            "_view_name": "StyleView",
            "_model_name": "DescriptionStyleModel",
            "description_width": "",
            "_view_module": "@jupyter-widgets/base",
            "_model_module_version": "1.5.0",
            "_view_count": null,
            "_view_module_version": "1.2.0",
            "_model_module": "@jupyter-widgets/controls"
          }
        },
        "1e361d464cb54a59873f97de3d14d63a": {
          "model_module": "@jupyter-widgets/base",
          "model_name": "LayoutModel",
          "state": {
            "_view_name": "LayoutView",
            "grid_template_rows": null,
            "right": null,
            "justify_content": null,
            "_view_module": "@jupyter-widgets/base",
            "overflow": null,
            "_model_module_version": "1.2.0",
            "_view_count": null,
            "flex_flow": null,
            "width": null,
            "min_width": null,
            "border": null,
            "align_items": null,
            "bottom": null,
            "_model_module": "@jupyter-widgets/base",
            "top": null,
            "grid_column": null,
            "overflow_y": null,
            "overflow_x": null,
            "grid_auto_flow": null,
            "grid_area": null,
            "grid_template_columns": null,
            "flex": null,
            "_model_name": "LayoutModel",
            "justify_items": null,
            "grid_row": null,
            "max_height": null,
            "align_content": null,
            "visibility": null,
            "align_self": null,
            "height": null,
            "min_height": null,
            "padding": null,
            "grid_auto_rows": null,
            "grid_gap": null,
            "max_width": null,
            "order": null,
            "_view_module_version": "1.2.0",
            "grid_template_areas": null,
            "object_position": null,
            "object_fit": null,
            "grid_auto_columns": null,
            "margin": null,
            "display": null,
            "left": null
          }
        },
        "78b8412811bf4c2db5c4d6754b563975": {
          "model_module": "@jupyter-widgets/controls",
          "model_name": "HBoxModel",
          "state": {
            "_view_name": "HBoxView",
            "_dom_classes": [],
            "_model_name": "HBoxModel",
            "_view_module": "@jupyter-widgets/controls",
            "_model_module_version": "1.5.0",
            "_view_count": null,
            "_view_module_version": "1.5.0",
            "box_style": "",
            "layout": "IPY_MODEL_7fbcdbf7986745eea7c7f2bcae00dde9",
            "_model_module": "@jupyter-widgets/controls",
            "children": [
              "IPY_MODEL_5de7c89f76594b3eb17e443c4326e71a",
              "IPY_MODEL_21d337f7e38f44ab8e293a57f8875256"
            ]
          }
        },
        "7fbcdbf7986745eea7c7f2bcae00dde9": {
          "model_module": "@jupyter-widgets/base",
          "model_name": "LayoutModel",
          "state": {
            "_view_name": "LayoutView",
            "grid_template_rows": null,
            "right": null,
            "justify_content": null,
            "_view_module": "@jupyter-widgets/base",
            "overflow": null,
            "_model_module_version": "1.2.0",
            "_view_count": null,
            "flex_flow": null,
            "width": null,
            "min_width": null,
            "border": null,
            "align_items": null,
            "bottom": null,
            "_model_module": "@jupyter-widgets/base",
            "top": null,
            "grid_column": null,
            "overflow_y": null,
            "overflow_x": null,
            "grid_auto_flow": null,
            "grid_area": null,
            "grid_template_columns": null,
            "flex": null,
            "_model_name": "LayoutModel",
            "justify_items": null,
            "grid_row": null,
            "max_height": null,
            "align_content": null,
            "visibility": null,
            "align_self": null,
            "height": null,
            "min_height": null,
            "padding": null,
            "grid_auto_rows": null,
            "grid_gap": null,
            "max_width": null,
            "order": null,
            "_view_module_version": "1.2.0",
            "grid_template_areas": null,
            "object_position": null,
            "object_fit": null,
            "grid_auto_columns": null,
            "margin": null,
            "display": null,
            "left": null
          }
        },
        "5de7c89f76594b3eb17e443c4326e71a": {
          "model_module": "@jupyter-widgets/controls",
          "model_name": "IntProgressModel",
          "state": {
            "_view_name": "ProgressView",
            "style": "IPY_MODEL_44ee8be2c79c491aa46b1e1420fc7144",
            "_dom_classes": [],
            "description": "Downloading: 100%",
            "_model_name": "IntProgressModel",
            "bar_style": "success",
            "max": 440473133,
            "_view_module": "@jupyter-widgets/controls",
            "_model_module_version": "1.5.0",
            "value": 440473133,
            "_view_count": null,
            "_view_module_version": "1.5.0",
            "orientation": "horizontal",
            "min": 0,
            "description_tooltip": null,
            "_model_module": "@jupyter-widgets/controls",
            "layout": "IPY_MODEL_9f873a766f7a419e8314a54c05e38223"
          }
        },
        "21d337f7e38f44ab8e293a57f8875256": {
          "model_module": "@jupyter-widgets/controls",
          "model_name": "HTMLModel",
          "state": {
            "_view_name": "HTMLView",
            "style": "IPY_MODEL_4a34a0f1f275425685949f495d4c4fce",
            "_dom_classes": [],
            "description": "",
            "_model_name": "HTMLModel",
            "placeholder": "​",
            "_view_module": "@jupyter-widgets/controls",
            "_model_module_version": "1.5.0",
            "value": " 440M/440M [00:40&lt;00:00, 10.8MB/s]",
            "_view_count": null,
            "_view_module_version": "1.5.0",
            "description_tooltip": null,
            "_model_module": "@jupyter-widgets/controls",
            "layout": "IPY_MODEL_61e6c356fc974da9835e2e3d3163d1f6"
          }
        },
        "44ee8be2c79c491aa46b1e1420fc7144": {
          "model_module": "@jupyter-widgets/controls",
          "model_name": "ProgressStyleModel",
          "state": {
            "_view_name": "StyleView",
            "_model_name": "ProgressStyleModel",
            "description_width": "initial",
            "_view_module": "@jupyter-widgets/base",
            "_model_module_version": "1.5.0",
            "_view_count": null,
            "_view_module_version": "1.2.0",
            "bar_color": null,
            "_model_module": "@jupyter-widgets/controls"
          }
        },
        "9f873a766f7a419e8314a54c05e38223": {
          "model_module": "@jupyter-widgets/base",
          "model_name": "LayoutModel",
          "state": {
            "_view_name": "LayoutView",
            "grid_template_rows": null,
            "right": null,
            "justify_content": null,
            "_view_module": "@jupyter-widgets/base",
            "overflow": null,
            "_model_module_version": "1.2.0",
            "_view_count": null,
            "flex_flow": null,
            "width": null,
            "min_width": null,
            "border": null,
            "align_items": null,
            "bottom": null,
            "_model_module": "@jupyter-widgets/base",
            "top": null,
            "grid_column": null,
            "overflow_y": null,
            "overflow_x": null,
            "grid_auto_flow": null,
            "grid_area": null,
            "grid_template_columns": null,
            "flex": null,
            "_model_name": "LayoutModel",
            "justify_items": null,
            "grid_row": null,
            "max_height": null,
            "align_content": null,
            "visibility": null,
            "align_self": null,
            "height": null,
            "min_height": null,
            "padding": null,
            "grid_auto_rows": null,
            "grid_gap": null,
            "max_width": null,
            "order": null,
            "_view_module_version": "1.2.0",
            "grid_template_areas": null,
            "object_position": null,
            "object_fit": null,
            "grid_auto_columns": null,
            "margin": null,
            "display": null,
            "left": null
          }
        },
        "4a34a0f1f275425685949f495d4c4fce": {
          "model_module": "@jupyter-widgets/controls",
          "model_name": "DescriptionStyleModel",
          "state": {
            "_view_name": "StyleView",
            "_model_name": "DescriptionStyleModel",
            "description_width": "",
            "_view_module": "@jupyter-widgets/base",
            "_model_module_version": "1.5.0",
            "_view_count": null,
            "_view_module_version": "1.2.0",
            "_model_module": "@jupyter-widgets/controls"
          }
        },
        "61e6c356fc974da9835e2e3d3163d1f6": {
          "model_module": "@jupyter-widgets/base",
          "model_name": "LayoutModel",
          "state": {
            "_view_name": "LayoutView",
            "grid_template_rows": null,
            "right": null,
            "justify_content": null,
            "_view_module": "@jupyter-widgets/base",
            "overflow": null,
            "_model_module_version": "1.2.0",
            "_view_count": null,
            "flex_flow": null,
            "width": null,
            "min_width": null,
            "border": null,
            "align_items": null,
            "bottom": null,
            "_model_module": "@jupyter-widgets/base",
            "top": null,
            "grid_column": null,
            "overflow_y": null,
            "overflow_x": null,
            "grid_auto_flow": null,
            "grid_area": null,
            "grid_template_columns": null,
            "flex": null,
            "_model_name": "LayoutModel",
            "justify_items": null,
            "grid_row": null,
            "max_height": null,
            "align_content": null,
            "visibility": null,
            "align_self": null,
            "height": null,
            "min_height": null,
            "padding": null,
            "grid_auto_rows": null,
            "grid_gap": null,
            "max_width": null,
            "order": null,
            "_view_module_version": "1.2.0",
            "grid_template_areas": null,
            "object_position": null,
            "object_fit": null,
            "grid_auto_columns": null,
            "margin": null,
            "display": null,
            "left": null
          }
        },
        "8036222e412248188ac00b2b90554adc": {
          "model_module": "@jupyter-widgets/controls",
          "model_name": "HBoxModel",
          "state": {
            "_view_name": "HBoxView",
            "_dom_classes": [],
            "_model_name": "HBoxModel",
            "_view_module": "@jupyter-widgets/controls",
            "_model_module_version": "1.5.0",
            "_view_count": null,
            "_view_module_version": "1.5.0",
            "box_style": "",
            "layout": "IPY_MODEL_90bbc0c589164b058a22c30a42c467f9",
            "_model_module": "@jupyter-widgets/controls",
            "children": [
              "IPY_MODEL_9f68531e351a4f608fbec26243a8d2df",
              "IPY_MODEL_3c40f3fa910a4d1c8c7791542e3bf690"
            ]
          }
        },
        "90bbc0c589164b058a22c30a42c467f9": {
          "model_module": "@jupyter-widgets/base",
          "model_name": "LayoutModel",
          "state": {
            "_view_name": "LayoutView",
            "grid_template_rows": null,
            "right": null,
            "justify_content": null,
            "_view_module": "@jupyter-widgets/base",
            "overflow": null,
            "_model_module_version": "1.2.0",
            "_view_count": null,
            "flex_flow": null,
            "width": null,
            "min_width": null,
            "border": null,
            "align_items": null,
            "bottom": null,
            "_model_module": "@jupyter-widgets/base",
            "top": null,
            "grid_column": null,
            "overflow_y": null,
            "overflow_x": null,
            "grid_auto_flow": null,
            "grid_area": null,
            "grid_template_columns": null,
            "flex": null,
            "_model_name": "LayoutModel",
            "justify_items": null,
            "grid_row": null,
            "max_height": null,
            "align_content": null,
            "visibility": null,
            "align_self": null,
            "height": null,
            "min_height": null,
            "padding": null,
            "grid_auto_rows": null,
            "grid_gap": null,
            "max_width": null,
            "order": null,
            "_view_module_version": "1.2.0",
            "grid_template_areas": null,
            "object_position": null,
            "object_fit": null,
            "grid_auto_columns": null,
            "margin": null,
            "display": null,
            "left": null
          }
        },
        "9f68531e351a4f608fbec26243a8d2df": {
          "model_module": "@jupyter-widgets/controls",
          "model_name": "IntProgressModel",
          "state": {
            "_view_name": "ProgressView",
            "style": "IPY_MODEL_437a37d2e552403da1ac1d574de125aa",
            "_dom_classes": [],
            "description": "Iteration: 100%",
            "_model_name": "IntProgressModel",
            "bar_style": "success",
            "max": 1784,
            "_view_module": "@jupyter-widgets/controls",
            "_model_module_version": "1.5.0",
            "value": 1784,
            "_view_count": null,
            "_view_module_version": "1.5.0",
            "orientation": "horizontal",
            "min": 0,
            "description_tooltip": null,
            "_model_module": "@jupyter-widgets/controls",
            "layout": "IPY_MODEL_6321650c252149bc9cea05c6f3aaa3ad"
          }
        },
        "3c40f3fa910a4d1c8c7791542e3bf690": {
          "model_module": "@jupyter-widgets/controls",
          "model_name": "HTMLModel",
          "state": {
            "_view_name": "HTMLView",
            "style": "IPY_MODEL_c8ecd02ae48244228c0337f50d89a006",
            "_dom_classes": [],
            "description": "",
            "_model_name": "HTMLModel",
            "placeholder": "​",
            "_view_module": "@jupyter-widgets/controls",
            "_model_module_version": "1.5.0",
            "value": " 1784/1784 [13:58&lt;00:00,  2.13it/s]",
            "_view_count": null,
            "_view_module_version": "1.5.0",
            "description_tooltip": null,
            "_model_module": "@jupyter-widgets/controls",
            "layout": "IPY_MODEL_16f6c42794384f3682153e051443071c"
          }
        },
        "437a37d2e552403da1ac1d574de125aa": {
          "model_module": "@jupyter-widgets/controls",
          "model_name": "ProgressStyleModel",
          "state": {
            "_view_name": "StyleView",
            "_model_name": "ProgressStyleModel",
            "description_width": "initial",
            "_view_module": "@jupyter-widgets/base",
            "_model_module_version": "1.5.0",
            "_view_count": null,
            "_view_module_version": "1.2.0",
            "bar_color": null,
            "_model_module": "@jupyter-widgets/controls"
          }
        },
        "6321650c252149bc9cea05c6f3aaa3ad": {
          "model_module": "@jupyter-widgets/base",
          "model_name": "LayoutModel",
          "state": {
            "_view_name": "LayoutView",
            "grid_template_rows": null,
            "right": null,
            "justify_content": null,
            "_view_module": "@jupyter-widgets/base",
            "overflow": null,
            "_model_module_version": "1.2.0",
            "_view_count": null,
            "flex_flow": null,
            "width": null,
            "min_width": null,
            "border": null,
            "align_items": null,
            "bottom": null,
            "_model_module": "@jupyter-widgets/base",
            "top": null,
            "grid_column": null,
            "overflow_y": null,
            "overflow_x": null,
            "grid_auto_flow": null,
            "grid_area": null,
            "grid_template_columns": null,
            "flex": null,
            "_model_name": "LayoutModel",
            "justify_items": null,
            "grid_row": null,
            "max_height": null,
            "align_content": null,
            "visibility": null,
            "align_self": null,
            "height": null,
            "min_height": null,
            "padding": null,
            "grid_auto_rows": null,
            "grid_gap": null,
            "max_width": null,
            "order": null,
            "_view_module_version": "1.2.0",
            "grid_template_areas": null,
            "object_position": null,
            "object_fit": null,
            "grid_auto_columns": null,
            "margin": null,
            "display": null,
            "left": null
          }
        },
        "c8ecd02ae48244228c0337f50d89a006": {
          "model_module": "@jupyter-widgets/controls",
          "model_name": "DescriptionStyleModel",
          "state": {
            "_view_name": "StyleView",
            "_model_name": "DescriptionStyleModel",
            "description_width": "",
            "_view_module": "@jupyter-widgets/base",
            "_model_module_version": "1.5.0",
            "_view_count": null,
            "_view_module_version": "1.2.0",
            "_model_module": "@jupyter-widgets/controls"
          }
        },
        "16f6c42794384f3682153e051443071c": {
          "model_module": "@jupyter-widgets/base",
          "model_name": "LayoutModel",
          "state": {
            "_view_name": "LayoutView",
            "grid_template_rows": null,
            "right": null,
            "justify_content": null,
            "_view_module": "@jupyter-widgets/base",
            "overflow": null,
            "_model_module_version": "1.2.0",
            "_view_count": null,
            "flex_flow": null,
            "width": null,
            "min_width": null,
            "border": null,
            "align_items": null,
            "bottom": null,
            "_model_module": "@jupyter-widgets/base",
            "top": null,
            "grid_column": null,
            "overflow_y": null,
            "overflow_x": null,
            "grid_auto_flow": null,
            "grid_area": null,
            "grid_template_columns": null,
            "flex": null,
            "_model_name": "LayoutModel",
            "justify_items": null,
            "grid_row": null,
            "max_height": null,
            "align_content": null,
            "visibility": null,
            "align_self": null,
            "height": null,
            "min_height": null,
            "padding": null,
            "grid_auto_rows": null,
            "grid_gap": null,
            "max_width": null,
            "order": null,
            "_view_module_version": "1.2.0",
            "grid_template_areas": null,
            "object_position": null,
            "object_fit": null,
            "grid_auto_columns": null,
            "margin": null,
            "display": null,
            "left": null
          }
        },
        "1a6ccf85594b492eaf08b1c0a48b43c7": {
          "model_module": "@jupyter-widgets/controls",
          "model_name": "HBoxModel",
          "state": {
            "_view_name": "HBoxView",
            "_dom_classes": [],
            "_model_name": "HBoxModel",
            "_view_module": "@jupyter-widgets/controls",
            "_model_module_version": "1.5.0",
            "_view_count": null,
            "_view_module_version": "1.5.0",
            "box_style": "",
            "layout": "IPY_MODEL_102c6b1dd528417382de8fe00c8d0962",
            "_model_module": "@jupyter-widgets/controls",
            "children": [
              "IPY_MODEL_b6f9347e440d4947a2689b3fe59419b1",
              "IPY_MODEL_64fb94af1278479cab2f2631aaf40c52"
            ]
          }
        },
        "102c6b1dd528417382de8fe00c8d0962": {
          "model_module": "@jupyter-widgets/base",
          "model_name": "LayoutModel",
          "state": {
            "_view_name": "LayoutView",
            "grid_template_rows": null,
            "right": null,
            "justify_content": null,
            "_view_module": "@jupyter-widgets/base",
            "overflow": null,
            "_model_module_version": "1.2.0",
            "_view_count": null,
            "flex_flow": null,
            "width": null,
            "min_width": null,
            "border": null,
            "align_items": null,
            "bottom": null,
            "_model_module": "@jupyter-widgets/base",
            "top": null,
            "grid_column": null,
            "overflow_y": null,
            "overflow_x": null,
            "grid_auto_flow": null,
            "grid_area": null,
            "grid_template_columns": null,
            "flex": null,
            "_model_name": "LayoutModel",
            "justify_items": null,
            "grid_row": null,
            "max_height": null,
            "align_content": null,
            "visibility": null,
            "align_self": null,
            "height": null,
            "min_height": null,
            "padding": null,
            "grid_auto_rows": null,
            "grid_gap": null,
            "max_width": null,
            "order": null,
            "_view_module_version": "1.2.0",
            "grid_template_areas": null,
            "object_position": null,
            "object_fit": null,
            "grid_auto_columns": null,
            "margin": null,
            "display": null,
            "left": null
          }
        },
        "b6f9347e440d4947a2689b3fe59419b1": {
          "model_module": "@jupyter-widgets/controls",
          "model_name": "IntProgressModel",
          "state": {
            "_view_name": "ProgressView",
            "style": "IPY_MODEL_e4fb69c2ce0244d0aeecb8d190561105",
            "_dom_classes": [],
            "description": "Iteration: 100%",
            "_model_name": "IntProgressModel",
            "bar_style": "success",
            "max": 1784,
            "_view_module": "@jupyter-widgets/controls",
            "_model_module_version": "1.5.0",
            "value": 1784,
            "_view_count": null,
            "_view_module_version": "1.5.0",
            "orientation": "horizontal",
            "min": 0,
            "description_tooltip": null,
            "_model_module": "@jupyter-widgets/controls",
            "layout": "IPY_MODEL_62ae8c75bf9241b8b38a3c00bb1787e0"
          }
        },
        "64fb94af1278479cab2f2631aaf40c52": {
          "model_module": "@jupyter-widgets/controls",
          "model_name": "HTMLModel",
          "state": {
            "_view_name": "HTMLView",
            "style": "IPY_MODEL_32e1a7ac2556494088bbf178d397d058",
            "_dom_classes": [],
            "description": "",
            "_model_name": "HTMLModel",
            "placeholder": "​",
            "_view_module": "@jupyter-widgets/controls",
            "_model_module_version": "1.5.0",
            "value": " 1784/1784 [13:58&lt;00:00,  2.13it/s]",
            "_view_count": null,
            "_view_module_version": "1.5.0",
            "description_tooltip": null,
            "_model_module": "@jupyter-widgets/controls",
            "layout": "IPY_MODEL_60f00331b3df41b4a6f99cbfac71d48e"
          }
        },
        "e4fb69c2ce0244d0aeecb8d190561105": {
          "model_module": "@jupyter-widgets/controls",
          "model_name": "ProgressStyleModel",
          "state": {
            "_view_name": "StyleView",
            "_model_name": "ProgressStyleModel",
            "description_width": "initial",
            "_view_module": "@jupyter-widgets/base",
            "_model_module_version": "1.5.0",
            "_view_count": null,
            "_view_module_version": "1.2.0",
            "bar_color": null,
            "_model_module": "@jupyter-widgets/controls"
          }
        },
        "62ae8c75bf9241b8b38a3c00bb1787e0": {
          "model_module": "@jupyter-widgets/base",
          "model_name": "LayoutModel",
          "state": {
            "_view_name": "LayoutView",
            "grid_template_rows": null,
            "right": null,
            "justify_content": null,
            "_view_module": "@jupyter-widgets/base",
            "overflow": null,
            "_model_module_version": "1.2.0",
            "_view_count": null,
            "flex_flow": null,
            "width": null,
            "min_width": null,
            "border": null,
            "align_items": null,
            "bottom": null,
            "_model_module": "@jupyter-widgets/base",
            "top": null,
            "grid_column": null,
            "overflow_y": null,
            "overflow_x": null,
            "grid_auto_flow": null,
            "grid_area": null,
            "grid_template_columns": null,
            "flex": null,
            "_model_name": "LayoutModel",
            "justify_items": null,
            "grid_row": null,
            "max_height": null,
            "align_content": null,
            "visibility": null,
            "align_self": null,
            "height": null,
            "min_height": null,
            "padding": null,
            "grid_auto_rows": null,
            "grid_gap": null,
            "max_width": null,
            "order": null,
            "_view_module_version": "1.2.0",
            "grid_template_areas": null,
            "object_position": null,
            "object_fit": null,
            "grid_auto_columns": null,
            "margin": null,
            "display": null,
            "left": null
          }
        },
        "32e1a7ac2556494088bbf178d397d058": {
          "model_module": "@jupyter-widgets/controls",
          "model_name": "DescriptionStyleModel",
          "state": {
            "_view_name": "StyleView",
            "_model_name": "DescriptionStyleModel",
            "description_width": "",
            "_view_module": "@jupyter-widgets/base",
            "_model_module_version": "1.5.0",
            "_view_count": null,
            "_view_module_version": "1.2.0",
            "_model_module": "@jupyter-widgets/controls"
          }
        },
        "60f00331b3df41b4a6f99cbfac71d48e": {
          "model_module": "@jupyter-widgets/base",
          "model_name": "LayoutModel",
          "state": {
            "_view_name": "LayoutView",
            "grid_template_rows": null,
            "right": null,
            "justify_content": null,
            "_view_module": "@jupyter-widgets/base",
            "overflow": null,
            "_model_module_version": "1.2.0",
            "_view_count": null,
            "flex_flow": null,
            "width": null,
            "min_width": null,
            "border": null,
            "align_items": null,
            "bottom": null,
            "_model_module": "@jupyter-widgets/base",
            "top": null,
            "grid_column": null,
            "overflow_y": null,
            "overflow_x": null,
            "grid_auto_flow": null,
            "grid_area": null,
            "grid_template_columns": null,
            "flex": null,
            "_model_name": "LayoutModel",
            "justify_items": null,
            "grid_row": null,
            "max_height": null,
            "align_content": null,
            "visibility": null,
            "align_self": null,
            "height": null,
            "min_height": null,
            "padding": null,
            "grid_auto_rows": null,
            "grid_gap": null,
            "max_width": null,
            "order": null,
            "_view_module_version": "1.2.0",
            "grid_template_areas": null,
            "object_position": null,
            "object_fit": null,
            "grid_auto_columns": null,
            "margin": null,
            "display": null,
            "left": null
          }
        }
      }
    }
  },
  "cells": [
    {
      "cell_type": "markdown",
      "metadata": {
        "id": "view-in-github",
        "colab_type": "text"
      },
      "source": [
        "<a href=\"https://colab.research.google.com/github/ShwetaBaranwal/BERT-for-QuestionAnswering/blob/master/BertForQuestionAnswering_from_Transformers.ipynb\" target=\"_parent\"><img src=\"https://colab.research.google.com/assets/colab-badge.svg\" alt=\"Open In Colab\"/></a>"
      ]
    },
    {
      "cell_type": "markdown",
      "metadata": {
        "id": "dWdrNdXvxPjA",
        "colab_type": "text"
      },
      "source": [
        "SQUAD dataset downloaded from: https://rajpurkar.github.io/SQuAD-explorer/"
      ]
    },
    {
      "cell_type": "code",
      "metadata": {
        "id": "ranrrYQu_G1w",
        "colab_type": "code",
        "outputId": "b173292c-e2e6-4a44-bf1b-f724b7a51976",
        "colab": {
          "base_uri": "https://localhost:8080/",
          "height": 35
        }
      },
      "source": [
        "!ls"
      ],
      "execution_count": 1,
      "outputs": [
        {
          "output_type": "stream",
          "text": [
            "dev-v2.0.json  sample_data  train-v2.0.json\n"
          ],
          "name": "stdout"
        }
      ]
    },
    {
      "cell_type": "markdown",
      "metadata": {
        "id": "B4VyCSoUpHoa",
        "colab_type": "text"
      },
      "source": [
        "##Loading and formatting dataset"
      ]
    },
    {
      "cell_type": "code",
      "metadata": {
        "id": "e_wi_vcI8s5L",
        "colab_type": "code",
        "colab": {}
      },
      "source": [
        "import json\n",
        "from pandas.io.json import json_normalize\n",
        "import pandas as pd\n",
        "import numpy as np\n"
      ],
      "execution_count": 0,
      "outputs": []
    },
    {
      "cell_type": "code",
      "metadata": {
        "id": "piStayGdpQRd",
        "colab_type": "code",
        "colab": {}
      },
      "source": [
        "def formatting_squad(dataset_file, display=False):\n",
        "  with open(dataset_file) as f:\n",
        "    raw_data = json.load(f)\n",
        "  \n",
        "  raw_data = raw_data['data']\n",
        "  raw_data = json_normalize(raw_data)['paragraphs']\n",
        "  \n",
        "  context = []\n",
        "  question = []\n",
        "  answer_start = []\n",
        "  text = []\n",
        "\n",
        "  for i in range(len(raw_data)):\n",
        "    for j in range(len(raw_data[i])):\n",
        "      for k in range(len(raw_data[i][j]['qas'])):\n",
        "\n",
        "        if ((raw_data[i][j]['qas'][k]['is_impossible'] is False) & (len(raw_data[i][j]['qas'][k]['answers']) != 0)):\n",
        "          question.append(raw_data[i][j]['qas'][k]['question'])\n",
        "          answer_start.append(raw_data[i][j]['qas'][k]['answers'][0]['answer_start'])\n",
        "          text.append(raw_data[i][j]['qas'][k]['answers'][0]['text'])\n",
        "          context.append(raw_data[i][j]['context'])\n",
        "\n",
        "        elif ((raw_data[i][j]['qas'][k]['is_impossible'] is True) & (len(raw_data[i][j]['qas'][k]['plausible_answers']) != 0)):\n",
        "          question.append(raw_data[i][j]['qas'][k]['question'])\n",
        "          answer_start.append(raw_data[i][j]['qas'][k]['plausible_answers'][0]['answer_start'])\n",
        "          text.append(raw_data[i][j]['qas'][k]['plausible_answers'][0]['text'])\n",
        "          context.append(raw_data[i][j]['context'])\n",
        "\n",
        "        else:\n",
        "          continue\n",
        "  \n",
        "  data = pd.DataFrame({\"context\":context, \"question\": question, \"answer_start\": answer_start, \"text\": text})\n",
        "  \n",
        "  if display is True:\n",
        "    print(data.shape)\n",
        "  \n",
        "  return data"
      ],
      "execution_count": 0,
      "outputs": []
    },
    {
      "cell_type": "code",
      "metadata": {
        "id": "byA8RHXbnzIq",
        "colab_type": "code",
        "outputId": "2ced1cdf-514f-468a-c099-c238cd894fe4",
        "colab": {
          "base_uri": "https://localhost:8080/",
          "height": 35
        }
      },
      "source": [
        "dev_data = formatting_squad('dev-v2.0.json')\n",
        "dev_data = dev_data[dev_data['context'].apply(lambda x: len(x)<500)].reset_index(drop=True)\n",
        "print(dev_data.shape)"
      ],
      "execution_count": 4,
      "outputs": [
        {
          "output_type": "stream",
          "text": [
            "(454, 4)\n"
          ],
          "name": "stdout"
        }
      ]
    },
    {
      "cell_type": "code",
      "metadata": {
        "id": "7laNi00Pq082",
        "colab_type": "code",
        "outputId": "01fb2f56-36d7-4eba-9e0a-9096d997b9af",
        "colab": {
          "base_uri": "https://localhost:8080/",
          "height": 190
        }
      },
      "source": [
        "dev_data.head(3)"
      ],
      "execution_count": 5,
      "outputs": [
        {
          "output_type": "execute_result",
          "data": {
            "text/html": [
              "<div>\n",
              "<style scoped>\n",
              "    .dataframe tbody tr th:only-of-type {\n",
              "        vertical-align: middle;\n",
              "    }\n",
              "\n",
              "    .dataframe tbody tr th {\n",
              "        vertical-align: top;\n",
              "    }\n",
              "\n",
              "    .dataframe thead th {\n",
              "        text-align: right;\n",
              "    }\n",
              "</style>\n",
              "<table border=\"1\" class=\"dataframe\">\n",
              "  <thead>\n",
              "    <tr style=\"text-align: right;\">\n",
              "      <th></th>\n",
              "      <th>context</th>\n",
              "      <th>question</th>\n",
              "      <th>answer_start</th>\n",
              "      <th>text</th>\n",
              "    </tr>\n",
              "  </thead>\n",
              "  <tbody>\n",
              "    <tr>\n",
              "      <th>0</th>\n",
              "      <td>The English name \"Normans\" comes from the Fren...</td>\n",
              "      <td>What is the original meaning of the word Norman?</td>\n",
              "      <td>341</td>\n",
              "      <td>Viking</td>\n",
              "    </tr>\n",
              "    <tr>\n",
              "      <th>1</th>\n",
              "      <td>The English name \"Normans\" comes from the Fren...</td>\n",
              "      <td>When was the Latin version of the word Norman ...</td>\n",
              "      <td>309</td>\n",
              "      <td>9th century</td>\n",
              "    </tr>\n",
              "    <tr>\n",
              "      <th>2</th>\n",
              "      <td>The English name \"Normans\" comes from the Fren...</td>\n",
              "      <td>What name comes from the English words Normans...</td>\n",
              "      <td>17</td>\n",
              "      <td>\"Normans\"</td>\n",
              "    </tr>\n",
              "  </tbody>\n",
              "</table>\n",
              "</div>"
            ],
            "text/plain": [
              "                                             context  ...         text\n",
              "0  The English name \"Normans\" comes from the Fren...  ...       Viking\n",
              "1  The English name \"Normans\" comes from the Fren...  ...  9th century\n",
              "2  The English name \"Normans\" comes from the Fren...  ...    \"Normans\"\n",
              "\n",
              "[3 rows x 4 columns]"
            ]
          },
          "metadata": {
            "tags": []
          },
          "execution_count": 5
        }
      ]
    },
    {
      "cell_type": "code",
      "metadata": {
        "id": "jnYxcrvDqLaN",
        "colab_type": "code",
        "outputId": "69d10bef-87fb-4a90-c6a0-c0fb4623020d",
        "colab": {
          "base_uri": "https://localhost:8080/",
          "height": 35
        }
      },
      "source": [
        "train_data = formatting_squad('train-v2.0.json')\n",
        "train_data = train_data[train_data['context'].apply(lambda x: len(x)<500)].reset_index(drop=True)\n",
        "\n",
        "print(train_data.shape)"
      ],
      "execution_count": 6,
      "outputs": [
        {
          "output_type": "stream",
          "text": [
            "(14270, 4)\n"
          ],
          "name": "stdout"
        }
      ]
    },
    {
      "cell_type": "code",
      "metadata": {
        "id": "72jVQV8Iq4je",
        "colab_type": "code",
        "outputId": "2459986c-6aad-4904-c1ca-f0bc3614061f",
        "colab": {
          "base_uri": "https://localhost:8080/",
          "height": 190
        }
      },
      "source": [
        "train_data.head(3)"
      ],
      "execution_count": 7,
      "outputs": [
        {
          "output_type": "execute_result",
          "data": {
            "text/html": [
              "<div>\n",
              "<style scoped>\n",
              "    .dataframe tbody tr th:only-of-type {\n",
              "        vertical-align: middle;\n",
              "    }\n",
              "\n",
              "    .dataframe tbody tr th {\n",
              "        vertical-align: top;\n",
              "    }\n",
              "\n",
              "    .dataframe thead th {\n",
              "        text-align: right;\n",
              "    }\n",
              "</style>\n",
              "<table border=\"1\" class=\"dataframe\">\n",
              "  <thead>\n",
              "    <tr style=\"text-align: right;\">\n",
              "      <th></th>\n",
              "      <th>context</th>\n",
              "      <th>question</th>\n",
              "      <th>answer_start</th>\n",
              "      <th>text</th>\n",
              "    </tr>\n",
              "  </thead>\n",
              "  <tbody>\n",
              "    <tr>\n",
              "      <th>0</th>\n",
              "      <td>Beyoncé announced a hiatus from her music care...</td>\n",
              "      <td>Beyonce would take a break from music in which...</td>\n",
              "      <td>60</td>\n",
              "      <td>2010</td>\n",
              "    </tr>\n",
              "    <tr>\n",
              "      <th>1</th>\n",
              "      <td>Beyoncé announced a hiatus from her music care...</td>\n",
              "      <td>Which year did Beyonce and her father part bus...</td>\n",
              "      <td>60</td>\n",
              "      <td>2010</td>\n",
              "    </tr>\n",
              "    <tr>\n",
              "      <th>2</th>\n",
              "      <td>Beyoncé announced a hiatus from her music care...</td>\n",
              "      <td>Which famous landmark did Beyonce see in China?</td>\n",
              "      <td>300</td>\n",
              "      <td>the Great Wall of China</td>\n",
              "    </tr>\n",
              "  </tbody>\n",
              "</table>\n",
              "</div>"
            ],
            "text/plain": [
              "                                             context  ...                     text\n",
              "0  Beyoncé announced a hiatus from her music care...  ...                     2010\n",
              "1  Beyoncé announced a hiatus from her music care...  ...                     2010\n",
              "2  Beyoncé announced a hiatus from her music care...  ...  the Great Wall of China\n",
              "\n",
              "[3 rows x 4 columns]"
            ]
          },
          "metadata": {
            "tags": []
          },
          "execution_count": 7
        }
      ]
    },
    {
      "cell_type": "code",
      "metadata": {
        "id": "a06rkhbAY7Vb",
        "colab_type": "code",
        "outputId": "02f1cec1-6d15-4948-dfeb-75bb0642ff2f",
        "colab": {
          "base_uri": "https://localhost:8080/",
          "height": 35
        }
      },
      "source": [
        "for j,i in enumerate(train_data['context'][1]):\n",
        "  if i.startswith('2'):\n",
        "    print (i,j)"
      ],
      "execution_count": 8,
      "outputs": [
        {
          "output_type": "stream",
          "text": [
            "2 60\n"
          ],
          "name": "stdout"
        }
      ]
    },
    {
      "cell_type": "markdown",
      "metadata": {
        "id": "yOgSJjLUrFLo",
        "colab_type": "text"
      },
      "source": [
        "##BERT"
      ]
    },
    {
      "cell_type": "code",
      "metadata": {
        "id": "w_TZUV_CqVQI",
        "colab_type": "code",
        "colab": {}
      },
      "source": [
        "!pip install transformers"
      ],
      "execution_count": 0,
      "outputs": []
    },
    {
      "cell_type": "code",
      "metadata": {
        "id": "h7RZ6SrsravU",
        "colab_type": "code",
        "colab": {}
      },
      "source": [
        "from torch import nn\n",
        "import torch\n",
        "from torch.utils.data import Dataset, DataLoader\n",
        "import transformers\n",
        "from transformers.optimization import AdamW\n",
        "import pandas as pd\n",
        "import numpy as np\n",
        "from tqdm import trange, tqdm_notebook\n"
      ],
      "execution_count": 0,
      "outputs": []
    },
    {
      "cell_type": "markdown",
      "metadata": {
        "id": "s6qqr60M2z_4",
        "colab_type": "text"
      },
      "source": [
        "##Model function"
      ]
    },
    {
      "cell_type": "code",
      "metadata": {
        "id": "WxUcoiCfrfU-",
        "colab_type": "code",
        "colab": {}
      },
      "source": [
        "class BERTBASEQA(nn.Module):\n",
        "\n",
        "  def __init__(self, bert_type, hidden_size, num_labels):\n",
        "    super(BERTBASEQA, self).__init__()\n",
        "    self.bert_type = bert_type\n",
        "    self.hidden_size = hidden_size\n",
        "    self.num_labels = num_labels\n",
        "    self.bert = transformers.BertModel.from_pretrained(self.bert_type)\n",
        "    self.qa_outputs = nn.Linear(self.hidden_size, self.num_labels)\n",
        "\n",
        "  def forward(self, ids, token_ids):\n",
        "\n",
        "    output = self.bert(\n",
        "                      input_ids = ids, \n",
        "                      token_type_ids = token_ids\n",
        "                      )\n",
        "    \n",
        "    sequence_output = output[0]   #(None, seq_len, hidden_size)\n",
        "    logits = self.qa_outputs(sequence_output) #(None, seq_len, hidden_size)*(hidden_size, 2)=(None, seq_len, 2)\n",
        "    start_logits, end_logits = logits.split(1, dim=-1)    #(None, seq_len, 1), (None, seq_len, 1)\n",
        "    start_logits = start_logits.squeeze(-1)  #(None, seq_len)\n",
        "    end_logits = end_logits.squeeze(-1)    #(None, seq_len)\n",
        "\n",
        "\n",
        "    outputs = (start_logits, end_logits,) \n",
        "    \n",
        "    return outputs  \n"
      ],
      "execution_count": 0,
      "outputs": []
    },
    {
      "cell_type": "markdown",
      "metadata": {
        "id": "RRuGEo2g22LE",
        "colab_type": "text"
      },
      "source": [
        "Loss function"
      ]
    },
    {
      "cell_type": "code",
      "metadata": {
        "id": "YSCyjkvGyob6",
        "colab_type": "code",
        "colab": {}
      },
      "source": [
        "def loss_func(out, s_target, e_target):\n",
        "  criterion = nn.CrossEntropyLoss()\n",
        "  s_loss = criterion(out[0], s_target)\n",
        "  e_loss = criterion(out[1], e_target)\n",
        "  total_loss = s_loss+e_loss\n",
        "  return total_loss"
      ],
      "execution_count": 0,
      "outputs": []
    },
    {
      "cell_type": "markdown",
      "metadata": {
        "id": "H5Lw57kEtXrz",
        "colab_type": "text"
      },
      "source": [
        "Tokenization and Model check:"
      ]
    },
    {
      "cell_type": "code",
      "metadata": {
        "id": "wc917lHeT0gh",
        "colab_type": "code",
        "outputId": "e5acf251-03fc-4d27-c706-059491498022",
        "colab": {
          "base_uri": "https://localhost:8080/",
          "height": 106
        }
      },
      "source": [
        "question = train_data['question'][194]\n",
        "context = train_data['context'][194]\n",
        "text = train_data['text'][194]\n",
        "print(question)\n",
        "print(context)\n",
        "print(text)"
      ],
      "execution_count": 14,
      "outputs": [
        {
          "output_type": "stream",
          "text": [
            "Who wrote the fictionalized \"Chopin?\"\n",
            "Possibly the first venture into fictional treatments of Chopin's life was a fanciful operatic version of some of its events. Chopin was written by Giacomo Orefice and produced in Milan in 1901. All the music is derived from that of Chopin.\n",
            "Giacomo Orefice\n",
            "ERROR! Session/line number was not unique in database. History logging moved to new session 60\n"
          ],
          "name": "stdout"
        }
      ]
    },
    {
      "cell_type": "code",
      "metadata": {
        "id": "yhGm06MESk2p",
        "colab_type": "code",
        "colab": {
          "base_uri": "https://localhost:8080/",
          "height": 66,
          "referenced_widgets": [
            "6d4caa0d301c49e9ad09de3fb9c2c17b",
            "38a03e31fd5c47d184c573fc66f5bd7f",
            "e55a2eeedeaf4800a3996980089aade2",
            "b4d850ad95384fa99d19ec50f8105174",
            "56601a3614c147f792fd19307059fd1e",
            "574d4330c8944bf68b3d5afc8cbeabf7",
            "3b080aabe02f4fb39a734093f6f5c0d3",
            "8f2c01bd903248979580d4f87ed984d3"
          ]
        },
        "outputId": "4013fee8-5d3e-4b23-98a3-85541e3b6f63"
      },
      "source": [
        "#encoding\n",
        "tokenizer = transformers.BertTokenizer.from_pretrained('bert-base-uncased')\n",
        "input_ids = tokenizer.encode(question, context)\n",
        "answer_ids = tokenizer.encode(text)"
      ],
      "execution_count": 15,
      "outputs": [
        {
          "output_type": "display_data",
          "data": {
            "application/vnd.jupyter.widget-view+json": {
              "model_id": "6d4caa0d301c49e9ad09de3fb9c2c17b",
              "version_minor": 0,
              "version_major": 2
            },
            "text/plain": [
              "HBox(children=(IntProgress(value=0, description='Downloading', max=231508, style=ProgressStyle(description_wid…"
            ]
          },
          "metadata": {
            "tags": []
          }
        },
        {
          "output_type": "stream",
          "text": [
            "\n"
          ],
          "name": "stdout"
        }
      ]
    },
    {
      "cell_type": "code",
      "metadata": {
        "id": "uaitU1Kst6qj",
        "colab_type": "code",
        "outputId": "b760e852-51e7-4f53-a572-b2f54398958a",
        "colab": {
          "base_uri": "https://localhost:8080/",
          "height": 35
        }
      },
      "source": [
        "len(input_ids)"
      ],
      "execution_count": 16,
      "outputs": [
        {
          "output_type": "execute_result",
          "data": {
            "text/plain": [
              "61"
            ]
          },
          "metadata": {
            "tags": []
          },
          "execution_count": 16
        }
      ]
    },
    {
      "cell_type": "code",
      "metadata": {
        "id": "qKzJqaa4XZ33",
        "colab_type": "code",
        "outputId": "b243e8fc-c521-4f23-9ef4-cc3107542442",
        "colab": {
          "base_uri": "https://localhost:8080/",
          "height": 86
        }
      },
      "source": [
        "print(\"question_ids\")\n",
        "print(input_ids[:input_ids.index(102)+1])\n",
        "print(\"question\")\n",
        "print(tokenizer.decode(input_ids[:input_ids.index(102)+1]))"
      ],
      "execution_count": 17,
      "outputs": [
        {
          "output_type": "stream",
          "text": [
            "question_ids\n",
            "[101, 2040, 2626, 1996, 7214, 3550, 1000, 25479, 1029, 1000, 102]\n",
            "question\n",
            "[CLS] who wrote the fictionalized \" chopin? \" [SEP]\n"
          ],
          "name": "stdout"
        }
      ]
    },
    {
      "cell_type": "code",
      "metadata": {
        "id": "qEQlBySruLuW",
        "colab_type": "code",
        "outputId": "91e4b71f-ce88-40ee-b9d5-9ef0709b9fe5",
        "colab": {
          "base_uri": "https://localhost:8080/",
          "height": 106
        }
      },
      "source": [
        "print(\"context_ids\")\n",
        "print(input_ids[input_ids.index(102)+1:])\n",
        "print(\"context\")\n",
        "print(tokenizer.decode(input_ids[input_ids.index(102)+1:]))"
      ],
      "execution_count": 18,
      "outputs": [
        {
          "output_type": "stream",
          "text": [
            "context_ids\n",
            "[4298, 1996, 2034, 6957, 2046, 7214, 13441, 1997, 25479, 1005, 1055, 2166, 2001, 1037, 5470, 26336, 22534, 2544, 1997, 2070, 1997, 2049, 2824, 1012, 25479, 2001, 2517, 2011, 22873, 10848, 8873, 3401, 1998, 2550, 1999, 6954, 1999, 5775, 1012, 2035, 1996, 2189, 2003, 5173, 2013, 2008, 1997, 25479, 1012, 102]\n",
            "context\n",
            "possibly the first venture into fictional treatments of chopin's life was a fanciful operatic version of some of its events. chopin was written by giacomo orefice and produced in milan in 1901. all the music is derived from that of chopin. [SEP]\n"
          ],
          "name": "stdout"
        }
      ]
    },
    {
      "cell_type": "code",
      "metadata": {
        "id": "w23SndqKIcqu",
        "colab_type": "code",
        "outputId": "3dde627e-e71b-413e-aef6-a5f32f3ec7e6",
        "colab": {
          "base_uri": "https://localhost:8080/",
          "height": 86
        }
      },
      "source": [
        "print(\"answer_ids\")\n",
        "print(answer_ids)\n",
        "print(\"answer\")\n",
        "print(tokenizer.decode(answer_ids))"
      ],
      "execution_count": 19,
      "outputs": [
        {
          "output_type": "stream",
          "text": [
            "answer_ids\n",
            "[101, 22873, 10848, 8873, 3401, 102]\n",
            "answer\n",
            "[CLS] giacomo orefice [SEP]\n"
          ],
          "name": "stdout"
        }
      ]
    },
    {
      "cell_type": "code",
      "metadata": {
        "id": "kLhw6T_txUmo",
        "colab_type": "code",
        "outputId": "6bde8ab9-575d-43be-f7b4-30b1732e5fac",
        "colab": {
          "base_uri": "https://localhost:8080/",
          "height": 35
        }
      },
      "source": [
        "s_pos, e_pos = 0, 0\n",
        "for i in range(len(input_ids)):\n",
        "  if (input_ids[i: i+len(answer_ids[1:-1])] == answer_ids[1:-1]):\n",
        "    s_pos = i\n",
        "    e_pos = i + len(answer_ids[1:-1]) - 1\n",
        "    break\n",
        " \n",
        "print(s_pos, e_pos)  \n"
      ],
      "execution_count": 20,
      "outputs": [
        {
          "output_type": "stream",
          "text": [
            "39 42\n"
          ],
          "name": "stdout"
        }
      ]
    },
    {
      "cell_type": "code",
      "metadata": {
        "id": "fYsB9x7wH1yx",
        "colab_type": "code",
        "outputId": "5d96bbde-f5e3-4c45-8d22-0b8c9b95e927",
        "colab": {
          "base_uri": "https://localhost:8080/",
          "height": 35
        }
      },
      "source": [
        "tokenizer.decode(input_ids[s_pos:e_pos+1])"
      ],
      "execution_count": 21,
      "outputs": [
        {
          "output_type": "execute_result",
          "data": {
            "text/plain": [
              "'giacomo orefice'"
            ]
          },
          "metadata": {
            "tags": []
          },
          "execution_count": 21
        }
      ]
    },
    {
      "cell_type": "code",
      "metadata": {
        "id": "6vemSJO_UV7R",
        "colab_type": "code",
        "colab": {}
      },
      "source": [
        "token_type_ids = [0 if i <= input_ids.index(102) else 1 for i in range(len(input_ids))]"
      ],
      "execution_count": 0,
      "outputs": []
    },
    {
      "cell_type": "code",
      "metadata": {
        "id": "ist9TRF9ur1Q",
        "colab_type": "code",
        "outputId": "8d673ecf-0930-4b7b-b60d-72b58a75e8dd",
        "colab": {
          "base_uri": "https://localhost:8080/",
          "height": 35
        }
      },
      "source": [
        "len(token_type_ids)"
      ],
      "execution_count": 23,
      "outputs": [
        {
          "output_type": "execute_result",
          "data": {
            "text/plain": [
              "61"
            ]
          },
          "metadata": {
            "tags": []
          },
          "execution_count": 23
        }
      ]
    },
    {
      "cell_type": "code",
      "metadata": {
        "id": "Q1P0GFY6Q4NJ",
        "colab_type": "code",
        "outputId": "4c537864-2da5-4a09-f833-e41e23c02153",
        "colab": {
          "base_uri": "https://localhost:8080/",
          "height": 86
        }
      },
      "source": [
        "print(f\"start_pos = {s_pos}\")\n",
        "print(f\"end_pos = {e_pos}\")\n",
        "\n",
        "ids = np.expand_dims(input_ids,0)\n",
        "tt_ids = np.expand_dims(token_type_ids,0)\n",
        "\n",
        "ids = torch.tensor(ids, dtype = torch.long)\n",
        "tt_ids = torch.tensor(tt_ids, dtype = torch.long)\n",
        "\n",
        "print(f\"input_ids size = {ids.size()}\")\n",
        "print(f\"token_type_ids size = {tt_ids.size()}\")\n"
      ],
      "execution_count": 24,
      "outputs": [
        {
          "output_type": "stream",
          "text": [
            "start_pos = 39\n",
            "end_pos = 42\n",
            "input_ids size = torch.Size([1, 61])\n",
            "token_type_ids size = torch.Size([1, 61])\n"
          ],
          "name": "stdout"
        }
      ]
    },
    {
      "cell_type": "code",
      "metadata": {
        "id": "y4FgYnRrPuOC",
        "colab_type": "code",
        "colab": {
          "base_uri": "https://localhost:8080/",
          "height": 115,
          "referenced_widgets": [
            "e10808e137504f278d7d8ff18f3c6898",
            "2ee30e8a8a2f4e158d25b1c113330e65",
            "1b50da3a4d234c7eac5d6e52c78a3421",
            "ed8450f2914e42f793c8aa6dc6dd936d",
            "a1d14a39aef940f8a9f66774e498c52a",
            "06a92a7019e1419d8120df2bee52de73",
            "6ec50d6475734d8fadf2aa62c86cd48c",
            "1e361d464cb54a59873f97de3d14d63a",
            "78b8412811bf4c2db5c4d6754b563975",
            "7fbcdbf7986745eea7c7f2bcae00dde9",
            "5de7c89f76594b3eb17e443c4326e71a",
            "21d337f7e38f44ab8e293a57f8875256",
            "44ee8be2c79c491aa46b1e1420fc7144",
            "9f873a766f7a419e8314a54c05e38223",
            "4a34a0f1f275425685949f495d4c4fce",
            "61e6c356fc974da9835e2e3d3163d1f6"
          ]
        },
        "outputId": "afa0e32a-dc0a-4a0b-e79d-f1610285ee3d"
      },
      "source": [
        "m = BERTBASEQA('bert-base-uncased', 768, 2)\n",
        "o = m.forward(ids, tt_ids)"
      ],
      "execution_count": 25,
      "outputs": [
        {
          "output_type": "display_data",
          "data": {
            "application/vnd.jupyter.widget-view+json": {
              "model_id": "e10808e137504f278d7d8ff18f3c6898",
              "version_minor": 0,
              "version_major": 2
            },
            "text/plain": [
              "HBox(children=(IntProgress(value=0, description='Downloading', max=361, style=ProgressStyle(description_width=…"
            ]
          },
          "metadata": {
            "tags": []
          }
        },
        {
          "output_type": "stream",
          "text": [
            "\n"
          ],
          "name": "stdout"
        },
        {
          "output_type": "display_data",
          "data": {
            "application/vnd.jupyter.widget-view+json": {
              "model_id": "78b8412811bf4c2db5c4d6754b563975",
              "version_minor": 0,
              "version_major": 2
            },
            "text/plain": [
              "HBox(children=(IntProgress(value=0, description='Downloading', max=440473133, style=ProgressStyle(description_…"
            ]
          },
          "metadata": {
            "tags": []
          }
        },
        {
          "output_type": "stream",
          "text": [
            "\n"
          ],
          "name": "stdout"
        }
      ]
    },
    {
      "cell_type": "code",
      "metadata": {
        "id": "CjWpYWfXPuEL",
        "colab_type": "code",
        "outputId": "79d89a26-8ef2-4c95-8a02-f4451bb0a15a",
        "colab": {
          "base_uri": "https://localhost:8080/",
          "height": 52
        }
      },
      "source": [
        "print(f\"size of output start pos array : {o[0].size()}\")\n",
        "print(f\"size of output end pos array : {o[1].size()}\")"
      ],
      "execution_count": 26,
      "outputs": [
        {
          "output_type": "stream",
          "text": [
            "size of output start pos array : torch.Size([1, 61])\n",
            "size of output end pos array : torch.Size([1, 61])\n"
          ],
          "name": "stdout"
        }
      ]
    },
    {
      "cell_type": "code",
      "metadata": {
        "id": "BcPXuRyvNgei",
        "colab_type": "code",
        "colab": {}
      },
      "source": [
        "loss = loss_func(o, torch.tensor([s_pos]), torch.tensor([e_pos]))"
      ],
      "execution_count": 0,
      "outputs": []
    },
    {
      "cell_type": "code",
      "metadata": {
        "id": "EyA6KpoPRC4R",
        "colab_type": "code",
        "outputId": "ec7689a1-0a52-4d36-f285-acdb39f37f05",
        "colab": {
          "base_uri": "https://localhost:8080/",
          "height": 35
        }
      },
      "source": [
        "loss"
      ],
      "execution_count": 28,
      "outputs": [
        {
          "output_type": "execute_result",
          "data": {
            "text/plain": [
              "tensor(8.1479, grad_fn=<AddBackward0>)"
            ]
          },
          "metadata": {
            "tags": []
          },
          "execution_count": 28
        }
      ]
    },
    {
      "cell_type": "code",
      "metadata": {
        "id": "7FnP8AcKwkrb",
        "colab_type": "code",
        "colab": {}
      },
      "source": [
        "loss.backward()"
      ],
      "execution_count": 0,
      "outputs": []
    },
    {
      "cell_type": "markdown",
      "metadata": {
        "id": "aLoqfJ-fwwuH",
        "colab_type": "text"
      },
      "source": [
        "##Dataloader for train and eval set:"
      ]
    },
    {
      "cell_type": "code",
      "metadata": {
        "id": "uTI42siiu6Ub",
        "colab_type": "code",
        "colab": {}
      },
      "source": [
        "class BertDatasetModule(Dataset):\n",
        "  def __init__(self, tokenizer, context, question, max_length, text):\n",
        "    self.context = context\n",
        "    self.question = question\n",
        "    self.text = text\n",
        "    self.tokenizer = tokenizer\n",
        "    self.max_length = max_length\n",
        "    \n",
        "  def __len__(self):\n",
        "        return len(self.context)\n",
        "  \n",
        "  def __getitem__(self, idx):\n",
        "    context_ = self.context[idx]\n",
        "    question_ = self.question[idx]\n",
        "    text_ = self.text[idx]\n",
        "    \n",
        "    #encoding\n",
        "    input_ids = self.tokenizer.encode(question_, context_)\n",
        "    answer_ids = tokenizer.encode(text_)\n",
        "    token_type_ids = [0 if i <= input_ids.index(102) else 1 for i in range(len(input_ids))]\n",
        "    \n",
        "    #calculating start and end position of answer in input_ids\n",
        "    s_pos, e_pos = 0, 0\n",
        "    for i in range(len(input_ids)):\n",
        "      if (input_ids[i: i+len(answer_ids[1:-1])] == answer_ids[1:-1]):\n",
        "        s_pos = i\n",
        "        e_pos = i + len(answer_ids[1:-1]) - 1\n",
        "        break\n",
        "\n",
        "    assert((s_pos<len(input_ids)) & (e_pos<len(input_ids)) & (s_pos<=e_pos))\n",
        "    \n",
        "    if (len(input_ids)<self.max_length):\n",
        "      padding_len = self.max_length - len(input_ids)\n",
        "      ids = input_ids + ([0]*padding_len)\n",
        "    else:\n",
        "      ids = input_ids[:self.max_length]\n",
        "\n",
        "    if (len(token_type_ids)<self.max_length):\n",
        "      padding_len = self.max_length - len(token_type_ids)\n",
        "      token_ids = token_type_ids  + ([1]*padding_len)\n",
        "    else:\n",
        "      token_ids = token_type_ids[:self.max_length]\n",
        " \n",
        "    return {'ids': torch.tensor(ids, dtype = torch.long),\n",
        "            'token_type_ids': torch.tensor(token_ids, dtype = torch.long),\n",
        "            'start_pos': torch.tensor(s_pos, dtype = torch.long),\n",
        "            'end_pos': torch.tensor(e_pos, dtype = torch.long)}          "
      ],
      "execution_count": 0,
      "outputs": []
    },
    {
      "cell_type": "markdown",
      "metadata": {
        "id": "k6m4AGCBxflc",
        "colab_type": "text"
      },
      "source": [
        "dataloader check:"
      ]
    },
    {
      "cell_type": "code",
      "metadata": {
        "id": "cZyFOtEkxWF5",
        "colab_type": "code",
        "colab": {}
      },
      "source": [
        "tokenizer = transformers.BertTokenizer.from_pretrained('bert-base-uncased')\n",
        "train_dataset = BertDatasetModule(\n",
        "    tokenizer = tokenizer,\n",
        "    context = train_data['context'],\n",
        "    question = train_data['question'],\n",
        "    max_length = 256,\n",
        "    text = train_data['text']\n",
        ")\n",
        "\n",
        "train_dataloader = DataLoader(train_dataset, batch_size = 8, shuffle=True)\n"
      ],
      "execution_count": 0,
      "outputs": []
    },
    {
      "cell_type": "code",
      "metadata": {
        "id": "gExWnWtAxWCs",
        "colab_type": "code",
        "colab": {}
      },
      "source": [
        "t = iter(train_dataloader)"
      ],
      "execution_count": 0,
      "outputs": []
    },
    {
      "cell_type": "code",
      "metadata": {
        "id": "Xzk5twzlxzFo",
        "colab_type": "code",
        "outputId": "000e9c43-a996-458a-be82-ca952eec921b",
        "colab": {
          "base_uri": "https://localhost:8080/",
          "height": 294
        }
      },
      "source": [
        "example = t.next()\n",
        "example"
      ],
      "execution_count": 33,
      "outputs": [
        {
          "output_type": "execute_result",
          "data": {
            "text/plain": [
              "{'end_pos': tensor([78, 45, 84, 18, 17, 14, 79, 72]),\n",
              " 'ids': tensor([[ 101, 2054, 2095,  ...,    0,    0,    0],\n",
              "         [ 101, 2040, 2001,  ...,    0,    0,    0],\n",
              "         [ 101, 2054, 2048,  ...,    0,    0,    0],\n",
              "         ...,\n",
              "         [ 101, 2054, 2003,  ...,    0,    0,    0],\n",
              "         [ 101, 2456, 1997,  ...,    0,    0,    0],\n",
              "         [ 101, 2129, 2116,  ...,    0,    0,    0]]),\n",
              " 'start_pos': tensor([78, 43, 80, 17, 11, 13, 79, 69]),\n",
              " 'token_type_ids': tensor([[0, 0, 0,  ..., 1, 1, 1],\n",
              "         [0, 0, 0,  ..., 1, 1, 1],\n",
              "         [0, 0, 0,  ..., 1, 1, 1],\n",
              "         ...,\n",
              "         [0, 0, 0,  ..., 1, 1, 1],\n",
              "         [0, 0, 0,  ..., 1, 1, 1],\n",
              "         [0, 0, 0,  ..., 1, 1, 1]])}"
            ]
          },
          "metadata": {
            "tags": []
          },
          "execution_count": 33
        }
      ]
    },
    {
      "cell_type": "code",
      "metadata": {
        "id": "QAM_X4oPxV_7",
        "colab_type": "code",
        "outputId": "e22c95dc-1f39-468b-ad43-ef358ccc5c2b",
        "colab": {
          "base_uri": "https://localhost:8080/",
          "height": 86
        }
      },
      "source": [
        "print(f\"batch tokenization ids shape = {example['ids'].size()}\")\n",
        "print(f\"batch token type ids shape = {example['token_type_ids'].size()}\")\n",
        "print(f\"batch start position shape = {example['start_pos'].size()}\")\n",
        "print(f\"batch end position shape = {example['end_pos'].size()}\")"
      ],
      "execution_count": 36,
      "outputs": [
        {
          "output_type": "stream",
          "text": [
            "batch tokenization ids shape = torch.Size([8, 256])\n",
            "batch token type ids shape = torch.Size([8, 256])\n",
            "batch start position shape = torch.Size([8])\n",
            "batch end position shape = torch.Size([8])\n"
          ],
          "name": "stdout"
        }
      ]
    },
    {
      "cell_type": "code",
      "metadata": {
        "id": "1xeYVBz3xV8u",
        "colab_type": "code",
        "outputId": "ff84670b-fe45-494b-b28c-277e0ad4fbdd",
        "colab": {
          "base_uri": "https://localhost:8080/",
          "height": 466
        }
      },
      "source": [
        "example['ids'][0]"
      ],
      "execution_count": 37,
      "outputs": [
        {
          "output_type": "execute_result",
          "data": {
            "text/plain": [
              "tensor([  101,  2054,  2095,  2106,  8891, 20830,  3413,  2185,  1029,   102,\n",
              "         1999, 10679,  1010,  1996,  2329,  2231,  3479,  3002, 10269,  2004,\n",
              "         1996,  2173,  1997, 12345,  1997,  8891, 20830,  1012,  2002,  2001,\n",
              "         2579,  2000,  1996,  2479,  1999,  2255, 10679,  1012,  8891,  4370,\n",
              "         2012,  1996,  7987,  2401,  2869, 10531,  2006,  1996,  5286,  1997,\n",
              "         1996, 28352, 14149,  2155,  1005,  1055,  2188,  2127,  2010,  4568,\n",
              "         5039,  1010,  2146,  3702,  2160,  1010,  2001,  2949,  1999,  2285,\n",
              "        10679,  1012,  8891,  2351,  2045,  2006,  1019,  2089, 11723,  1012,\n",
              "          102,     0,     0,     0,     0,     0,     0,     0,     0,     0,\n",
              "            0,     0,     0,     0,     0,     0,     0,     0,     0,     0,\n",
              "            0,     0,     0,     0,     0,     0,     0,     0,     0,     0,\n",
              "            0,     0,     0,     0,     0,     0,     0,     0,     0,     0,\n",
              "            0,     0,     0,     0,     0,     0,     0,     0,     0,     0,\n",
              "            0,     0,     0,     0,     0,     0,     0,     0,     0,     0,\n",
              "            0,     0,     0,     0,     0,     0,     0,     0,     0,     0,\n",
              "            0,     0,     0,     0,     0,     0,     0,     0,     0,     0,\n",
              "            0,     0,     0,     0,     0,     0,     0,     0,     0,     0,\n",
              "            0,     0,     0,     0,     0,     0,     0,     0,     0,     0,\n",
              "            0,     0,     0,     0,     0,     0,     0,     0,     0,     0,\n",
              "            0,     0,     0,     0,     0,     0,     0,     0,     0,     0,\n",
              "            0,     0,     0,     0,     0,     0,     0,     0,     0,     0,\n",
              "            0,     0,     0,     0,     0,     0,     0,     0,     0,     0,\n",
              "            0,     0,     0,     0,     0,     0,     0,     0,     0,     0,\n",
              "            0,     0,     0,     0,     0,     0,     0,     0,     0,     0,\n",
              "            0,     0,     0,     0,     0,     0,     0,     0,     0,     0,\n",
              "            0,     0,     0,     0,     0,     0])"
            ]
          },
          "metadata": {
            "tags": []
          },
          "execution_count": 37
        }
      ]
    },
    {
      "cell_type": "code",
      "metadata": {
        "id": "x0aiTAFTyHYP",
        "colab_type": "code",
        "colab": {}
      },
      "source": [
        ""
      ],
      "execution_count": 0,
      "outputs": []
    },
    {
      "cell_type": "markdown",
      "metadata": {
        "id": "Q9ZbdR1m5OeU",
        "colab_type": "text"
      },
      "source": [
        "##Training and evaluation function "
      ]
    },
    {
      "cell_type": "code",
      "metadata": {
        "id": "ZQIBaSgB1AMd",
        "colab_type": "code",
        "colab": {}
      },
      "source": [
        "def train_loop(dataloader, model, optimizer, device, max_grad_norm, scheduler=None):\n",
        "  model.train()\n",
        "  for bi, d in enumerate(tqdm_notebook(dataloader, desc=\"Iteration\")):\n",
        "    ids = d['ids']\n",
        "    # mask_ids = d['mask']\n",
        "    token_ids = d['token_type_ids']\n",
        "    start_pos = d['start_pos']\n",
        "    end_pos = d['end_pos']\n",
        "\n",
        "    ids = ids.to(device, dtype = torch.long)\n",
        "    # mask_ids = mask_ids.to(device, dtype = torch.long)\n",
        "    token_ids = token_ids.to(device, dtype = torch.long)\n",
        "    start_pos = start_pos.to(device, dtype = torch.long)\n",
        "    end_pos = end_pos.to(device, dtype = torch.long)\n",
        "\n",
        "    optimizer.zero_grad()\n",
        "    start_and_end_scores = model(ids, token_ids)\n",
        "    # start_scores, end_scores = model(ids, token_ids)\n",
        "    loss = loss_func(start_and_end_scores, start_pos, end_pos)\n",
        "    # torch.nn.utils.clip_grad_norm_(model.parameters(), max_grad_norm)\n",
        "    loss.backward()\n",
        "    optimizer.step()\n",
        "    if scheduler is not None:\n",
        "      scheduler.step()\n",
        "    if bi%100==0:\n",
        "      print (f\"bi: {bi}, loss: {loss}\")"
      ],
      "execution_count": 0,
      "outputs": []
    },
    {
      "cell_type": "code",
      "metadata": {
        "id": "W48y6kUM3lX5",
        "colab_type": "code",
        "colab": {}
      },
      "source": [
        "def eval_loop(dataloader, model, device):\n",
        "  model.eval()\n",
        "  pred_s = None\n",
        "  pred_e = None\n",
        "  eval_loss = 0.0\n",
        "  eval_steps = 0\n",
        "\n",
        "  for bi, d in enumerate(dataloader):\n",
        "    ids = d['ids']\n",
        "    # mask_ids = d['mask']\n",
        "    token_ids = d['token_type_ids']\n",
        "    start_pos = d['start_pos']\n",
        "    end_pos = d['end_pos']\n",
        "\n",
        "    ids = ids.to(device, dtype = torch.long)\n",
        "    # mask_ids = mask_ids.to(device, dtype = torch.long)\n",
        "    token_ids = token_ids.to(device, dtype = torch.long)\n",
        "    start_pos = start_pos.to(device, dtype = torch.long)\n",
        "    end_pos = end_pos.to(device, dtype = torch.long)\n",
        "\n",
        "    with torch.no_grad():\n",
        "      start_and_end_scores = model(ids, token_ids)\n",
        "      loss = loss_func(start_and_end_scores, start_pos, end_pos)\n",
        "      eval_loss += loss.mean().item()\n",
        "    \n",
        "    eval_steps += 1\n",
        "    if pred_s is None:\n",
        "      pred_s = start_and_end_scores[0].detach().cpu().numpy()\n",
        "      pred_e = start_and_end_scores[1].detach().cpu().numpy()\n",
        "    else:\n",
        "      pred_s = np.append(pred_s, start_and_end_scores[0].detach().cpu().numpy(), axis=0)\n",
        "      pred_e = np.append(pred_e, start_and_end_scores[1].detach().cpu().numpy(), axis=0)\n",
        "\n",
        "  eval_loss = eval_loss/eval_steps\n",
        "  pred_start = np.argmax(pred_s, axis=1)\n",
        "  pred_end = np.argmax(pred_e, axis=1)\n",
        "\n",
        "  return eval_loss, pred_start, pred_end\n",
        "    "
      ],
      "execution_count": 0,
      "outputs": []
    },
    {
      "cell_type": "markdown",
      "metadata": {
        "id": "r4A5YPZj5dzq",
        "colab_type": "text"
      },
      "source": [
        "##Configuration"
      ]
    },
    {
      "cell_type": "code",
      "metadata": {
        "id": "eiiowEuTuHIv",
        "colab_type": "code",
        "colab": {}
      },
      "source": [
        "MAX_SEQ_LENGTH = 512\n",
        "TRAIN_BATCH_SIZE = 8\n",
        "EVAL_BATCH_SIZE = 8\n",
        "LEARNING_RATE = 1e-5\n",
        "NUM_TRAIN_EPOCHS = 2\n",
        "BERT_TYPE = \"bert-base-uncased\"\n",
        "max_grad_norm = 1.0\n"
      ],
      "execution_count": 0,
      "outputs": []
    },
    {
      "cell_type": "code",
      "metadata": {
        "id": "nzOj-QdOuHFU",
        "colab_type": "code",
        "colab": {}
      },
      "source": [
        "tokenizer = transformers.BertTokenizer.from_pretrained(BERT_TYPE)\n",
        "train_dataset = BertDatasetModule(\n",
        "    tokenizer = tokenizer,\n",
        "    context = train_data['context'],\n",
        "    question = train_data['question'],\n",
        "    max_length = MAX_SEQ_LENGTH,\n",
        "    text = train_data['text']\n",
        ")\n",
        "\n",
        "train_dataloader = DataLoader(train_dataset, batch_size = TRAIN_BATCH_SIZE, shuffle=True)\n"
      ],
      "execution_count": 0,
      "outputs": []
    },
    {
      "cell_type": "code",
      "metadata": {
        "id": "nKjGzcNiuHCf",
        "colab_type": "code",
        "colab": {}
      },
      "source": [
        "\n",
        "eval_dataset = BertDatasetModule(\n",
        "    tokenizer = tokenizer,\n",
        "    context = dev_data['context'],\n",
        "    question = dev_data['question'],\n",
        "    max_length = MAX_SEQ_LENGTH,\n",
        "    text = dev_data['text']\n",
        ") \n",
        "\n",
        "eval_dataloader = DataLoader(eval_dataset, batch_size = EVAL_BATCH_SIZE, shuffle=False)\n"
      ],
      "execution_count": 0,
      "outputs": []
    },
    {
      "cell_type": "code",
      "metadata": {
        "id": "ynWWF9rXuG_E",
        "colab_type": "code",
        "outputId": "f9744f76-7641-4abe-d00f-6b88d23bf0a6",
        "colab": {
          "base_uri": "https://localhost:8080/",
          "height": 35
        }
      },
      "source": [
        "device = torch.device(\"cuda\" if torch.cuda.is_available() else \"cpu\")\n",
        "print(device)\n",
        "\n",
        "model = BERTBASEQA(BERT_TYPE, 768, 2).to(device)\n",
        "\n",
        "optimizer = AdamW(model.parameters(), lr=LEARNING_RATE, correct_bias=False)\n",
        "\n",
        "NUM_TRAIN_STEPS = int(len(train_dataset)/TRAIN_BATCH_SIZE * NUM_TRAIN_EPOCHS) \n",
        "scheduler = transformers.get_constant_schedule_with_warmup(\n",
        "                optimizer, \n",
        "                num_warmup_steps=500,\n",
        "                # num_training_steps=NUM_TRAIN_STEPS,\n",
        "                last_epoch=-1)\n",
        "\n"
      ],
      "execution_count": 41,
      "outputs": [
        {
          "output_type": "stream",
          "text": [
            "cuda\n"
          ],
          "name": "stdout"
        }
      ]
    },
    {
      "cell_type": "code",
      "metadata": {
        "id": "SoO_s9OQrI0X",
        "colab_type": "code",
        "outputId": "4e75dc78-cf90-4580-c8df-4f160d6d2318",
        "colab": {
          "base_uri": "https://localhost:8080/",
          "height": 35
        }
      },
      "source": [
        "NUM_TRAIN_STEPS"
      ],
      "execution_count": 42,
      "outputs": [
        {
          "output_type": "execute_result",
          "data": {
            "text/plain": [
              "3567"
            ]
          },
          "metadata": {
            "tags": []
          },
          "execution_count": 42
        }
      ]
    },
    {
      "cell_type": "markdown",
      "metadata": {
        "id": "veCxDGse7JnT",
        "colab_type": "text"
      },
      "source": [
        "##Training Iterations"
      ]
    },
    {
      "cell_type": "code",
      "metadata": {
        "id": "jMIZYTrIuG8Y",
        "colab_type": "code",
        "outputId": "9e84c4d8-31a8-44f1-9357-46ce0a6741e3",
        "colab": {
          "base_uri": "https://localhost:8080/",
          "height": 826,
          "referenced_widgets": [
            "8036222e412248188ac00b2b90554adc",
            "90bbc0c589164b058a22c30a42c467f9",
            "9f68531e351a4f608fbec26243a8d2df",
            "3c40f3fa910a4d1c8c7791542e3bf690",
            "437a37d2e552403da1ac1d574de125aa",
            "6321650c252149bc9cea05c6f3aaa3ad",
            "c8ecd02ae48244228c0337f50d89a006",
            "16f6c42794384f3682153e051443071c",
            "1a6ccf85594b492eaf08b1c0a48b43c7",
            "102c6b1dd528417382de8fe00c8d0962",
            "b6f9347e440d4947a2689b3fe59419b1",
            "64fb94af1278479cab2f2631aaf40c52",
            "e4fb69c2ce0244d0aeecb8d190561105",
            "62ae8c75bf9241b8b38a3c00bb1787e0",
            "32e1a7ac2556494088bbf178d397d058",
            "60f00331b3df41b4a6f99cbfac71d48e"
          ]
        }
      },
      "source": [
        "#training\n",
        "for epoch in trange(NUM_TRAIN_EPOCHS):\n",
        "  train_loop(train_dataloader, model, optimizer, device, max_grad_norm, scheduler)\n"
      ],
      "execution_count": 46,
      "outputs": [
        {
          "output_type": "stream",
          "text": [
            "\r  0%|          | 0/2 [00:00<?, ?it/s]/usr/local/lib/python3.6/dist-packages/ipykernel_launcher.py:3: TqdmDeprecationWarning: This function will be removed in tqdm==5.0.0\n",
            "Please use `tqdm.notebook.tqdm` instead of `tqdm.tqdm_notebook`\n",
            "  This is separate from the ipykernel package so we can avoid doing imports until\n"
          ],
          "name": "stderr"
        },
        {
          "output_type": "display_data",
          "data": {
            "application/vnd.jupyter.widget-view+json": {
              "model_id": "8036222e412248188ac00b2b90554adc",
              "version_minor": 0,
              "version_major": 2
            },
            "text/plain": [
              "HBox(children=(IntProgress(value=0, description='Iteration', max=1784, style=ProgressStyle(description_width='…"
            ]
          },
          "metadata": {
            "tags": []
          }
        },
        {
          "output_type": "stream",
          "text": [
            "bi: 0, loss: 12.523627281188965\n",
            "bi: 100, loss: 7.210041046142578\n",
            "bi: 200, loss: 6.301993370056152\n",
            "bi: 300, loss: 6.651998519897461\n",
            "bi: 400, loss: 5.719353675842285\n",
            "bi: 500, loss: 4.729956150054932\n",
            "bi: 600, loss: 3.099241256713867\n",
            "bi: 700, loss: 2.53017258644104\n",
            "bi: 800, loss: 2.1762030124664307\n",
            "bi: 900, loss: 2.884615898132324\n",
            "bi: 1000, loss: 3.7503533363342285\n",
            "bi: 1100, loss: 1.6361910104751587\n",
            "bi: 1200, loss: 2.6899256706237793\n",
            "bi: 1300, loss: 0.6986387372016907\n",
            "bi: 1400, loss: 2.062241554260254\n",
            "bi: 1500, loss: 2.4183034896850586\n",
            "bi: 1600, loss: 2.258862257003784\n",
            "bi: 1700, loss: 2.262627124786377\n"
          ],
          "name": "stdout"
        },
        {
          "output_type": "stream",
          "text": [
            "\r 50%|█████     | 1/2 [13:58<13:58, 838.28s/it]"
          ],
          "name": "stderr"
        },
        {
          "output_type": "stream",
          "text": [
            "\n"
          ],
          "name": "stdout"
        },
        {
          "output_type": "display_data",
          "data": {
            "application/vnd.jupyter.widget-view+json": {
              "model_id": "1a6ccf85594b492eaf08b1c0a48b43c7",
              "version_minor": 0,
              "version_major": 2
            },
            "text/plain": [
              "HBox(children=(IntProgress(value=0, description='Iteration', max=1784, style=ProgressStyle(description_width='…"
            ]
          },
          "metadata": {
            "tags": []
          }
        },
        {
          "output_type": "stream",
          "text": [
            "bi: 0, loss: 1.2992687225341797\n",
            "bi: 100, loss: 1.8543519973754883\n",
            "bi: 200, loss: 1.8964226245880127\n",
            "bi: 300, loss: 3.022347927093506\n",
            "bi: 400, loss: 4.0363359451293945\n",
            "bi: 500, loss: 1.2997478246688843\n",
            "bi: 600, loss: 0.7684900760650635\n",
            "bi: 700, loss: 2.079981803894043\n",
            "bi: 800, loss: 0.9735393524169922\n",
            "bi: 900, loss: 2.949345350265503\n",
            "bi: 1000, loss: 1.438720464706421\n",
            "bi: 1100, loss: 1.2918891906738281\n",
            "bi: 1200, loss: 1.509881615638733\n",
            "bi: 1300, loss: 3.0795867443084717\n",
            "bi: 1400, loss: 1.5694589614868164\n",
            "bi: 1500, loss: 2.125551223754883\n",
            "bi: 1600, loss: 1.656294584274292\n",
            "bi: 1700, loss: 4.1470160484313965\n"
          ],
          "name": "stdout"
        },
        {
          "output_type": "stream",
          "text": [
            "100%|██████████| 2/2 [27:56<00:00, 838.37s/it]"
          ],
          "name": "stderr"
        },
        {
          "output_type": "stream",
          "text": [
            "\n"
          ],
          "name": "stdout"
        },
        {
          "output_type": "stream",
          "text": [
            "\n"
          ],
          "name": "stderr"
        }
      ]
    },
    {
      "cell_type": "markdown",
      "metadata": {
        "id": "EMO9YY4W7O7N",
        "colab_type": "text"
      },
      "source": [
        "##Evaluation"
      ]
    },
    {
      "cell_type": "code",
      "metadata": {
        "id": "e0IkPAFHfiMv",
        "colab_type": "code",
        "outputId": "7da166f7-1433-48c0-88d8-483e7889ca29",
        "colab": {
          "base_uri": "https://localhost:8080/",
          "height": 35
        }
      },
      "source": [
        "res = eval_loop(eval_dataloader, model, device)\n",
        "print(res[0])"
      ],
      "execution_count": 47,
      "outputs": [
        {
          "output_type": "stream",
          "text": [
            "2.9783106707690057\n"
          ],
          "name": "stdout"
        }
      ]
    },
    {
      "cell_type": "code",
      "metadata": {
        "id": "8DLzKuJ3LW-P",
        "colab_type": "code",
        "colab": {}
      },
      "source": [
        "context_ = dev_data['context']\n",
        "question_ = dev_data['question']\n",
        "text_ = dev_data['text']\n",
        "pred_start = res[1]\n",
        "pred_end = res[2]\n",
        "res_text_ = []\n",
        "act_start = []\n",
        "act_end = []\n",
        "\n",
        "\n",
        "input_ids_list = list(map(lambda x,y: tokenizer.encode(x, y), question_, context_))\n",
        "answer_ids_list = list(map(lambda x: tokenizer.encode(x), text_))\n",
        "\n",
        "for i in range(len(input_ids_list)):\n",
        "  res_text_.append(tokenizer.decode(input_ids_list[i][pred_start[i]:pred_end[i]+1]))\n",
        "\n",
        "  s_pos, e_pos = 0, 0\n",
        "  for j in range(len(input_ids_list[i])):\n",
        "    if (input_ids_list[i][j: j+len(answer_ids_list[i][1:-1])] == answer_ids_list[i][1:-1]):\n",
        "      s_pos = j\n",
        "      e_pos = j + len(answer_ids_list[i][1:-1]) - 1\n",
        "      break\n",
        "  act_start.append(s_pos)\n",
        "  act_end.append(e_pos)\n"
      ],
      "execution_count": 0,
      "outputs": []
    },
    {
      "cell_type": "code",
      "metadata": {
        "id": "u5B2zxpUPKJa",
        "colab_type": "code",
        "colab": {}
      },
      "source": [
        "dev_data['start_pos'] = act_start\n",
        "dev_data['end_pos'] = act_end\n",
        "dev_data['predicted_text'] = res_text_\n",
        "dev_data['predicted_start_pos'] = pred_start\n",
        "dev_data['predicted_end_pos'] = pred_end\n"
      ],
      "execution_count": 0,
      "outputs": []
    },
    {
      "cell_type": "code",
      "metadata": {
        "id": "uuyCyJKqPRM1",
        "colab_type": "code",
        "outputId": "a75e172d-401f-4203-a96a-54ec9c82014f",
        "colab": {
          "base_uri": "https://localhost:8080/",
          "height": 769
        }
      },
      "source": [
        "show_columns = ['text', 'predicted_text', 'start_pos', 'end_pos', 'predicted_start_pos', 'predicted_end_pos']\n",
        "dev_data[show_columns].head(20)"
      ],
      "execution_count": 51,
      "outputs": [
        {
          "output_type": "execute_result",
          "data": {
            "text/html": [
              "<div>\n",
              "<style scoped>\n",
              "    .dataframe tbody tr th:only-of-type {\n",
              "        vertical-align: middle;\n",
              "    }\n",
              "\n",
              "    .dataframe tbody tr th {\n",
              "        vertical-align: top;\n",
              "    }\n",
              "\n",
              "    .dataframe thead th {\n",
              "        text-align: right;\n",
              "    }\n",
              "</style>\n",
              "<table border=\"1\" class=\"dataframe\">\n",
              "  <thead>\n",
              "    <tr style=\"text-align: right;\">\n",
              "      <th></th>\n",
              "      <th>text</th>\n",
              "      <th>predicted_text</th>\n",
              "      <th>start_pos</th>\n",
              "      <th>end_pos</th>\n",
              "      <th>predicted_start_pos</th>\n",
              "      <th>predicted_end_pos</th>\n",
              "    </tr>\n",
              "  </thead>\n",
              "  <tbody>\n",
              "    <tr>\n",
              "      <th>0</th>\n",
              "      <td>Viking</td>\n",
              "      <td>\" norseman, viking \"</td>\n",
              "      <td>97</td>\n",
              "      <td>97</td>\n",
              "      <td>93</td>\n",
              "      <td>98</td>\n",
              "    </tr>\n",
              "    <tr>\n",
              "      <th>1</th>\n",
              "      <td>9th century</td>\n",
              "      <td>9th century</td>\n",
              "      <td>90</td>\n",
              "      <td>91</td>\n",
              "      <td>90</td>\n",
              "      <td>91</td>\n",
              "    </tr>\n",
              "    <tr>\n",
              "      <th>2</th>\n",
              "      <td>\"Normans\"</td>\n",
              "      <td>normant, modern french normand</td>\n",
              "      <td>18</td>\n",
              "      <td>21</td>\n",
              "      <td>35</td>\n",
              "      <td>41</td>\n",
              "    </tr>\n",
              "    <tr>\n",
              "      <th>3</th>\n",
              "      <td>9th century</td>\n",
              "      <td>9th century</td>\n",
              "      <td>90</td>\n",
              "      <td>91</td>\n",
              "      <td>90</td>\n",
              "      <td>91</td>\n",
              "    </tr>\n",
              "    <tr>\n",
              "      <th>4</th>\n",
              "      <td>Norman mercenary</td>\n",
              "      <td>norman mercenary origin</td>\n",
              "      <td>19</td>\n",
              "      <td>20</td>\n",
              "      <td>19</td>\n",
              "      <td>21</td>\n",
              "    </tr>\n",
              "    <tr>\n",
              "      <th>5</th>\n",
              "      <td>Byzantine Greece</td>\n",
              "      <td>byzantine greece</td>\n",
              "      <td>16</td>\n",
              "      <td>17</td>\n",
              "      <td>16</td>\n",
              "      <td>17</td>\n",
              "    </tr>\n",
              "    <tr>\n",
              "      <th>6</th>\n",
              "      <td>George Maniaces</td>\n",
              "      <td>george maniaces</td>\n",
              "      <td>93</td>\n",
              "      <td>95</td>\n",
              "      <td>93</td>\n",
              "      <td>95</td>\n",
              "    </tr>\n",
              "    <tr>\n",
              "      <th>7</th>\n",
              "      <td>Sicilian expedition</td>\n",
              "      <td>sicilian expedition</td>\n",
              "      <td>98</td>\n",
              "      <td>99</td>\n",
              "      <td>98</td>\n",
              "      <td>99</td>\n",
              "    </tr>\n",
              "    <tr>\n",
              "      <th>8</th>\n",
              "      <td>1185</td>\n",
              "      <td>1185</td>\n",
              "      <td>32</td>\n",
              "      <td>33</td>\n",
              "      <td>32</td>\n",
              "      <td>33</td>\n",
              "    </tr>\n",
              "    <tr>\n",
              "      <th>9</th>\n",
              "      <td>Dyrrachium</td>\n",
              "      <td>dyrrachium</td>\n",
              "      <td>36</td>\n",
              "      <td>40</td>\n",
              "      <td>36</td>\n",
              "      <td>40</td>\n",
              "    </tr>\n",
              "    <tr>\n",
              "      <th>10</th>\n",
              "      <td>the Adriatic</td>\n",
              "      <td>adriatic</td>\n",
              "      <td>71</td>\n",
              "      <td>72</td>\n",
              "      <td>72</td>\n",
              "      <td>72</td>\n",
              "    </tr>\n",
              "    <tr>\n",
              "      <th>11</th>\n",
              "      <td>Norman army</td>\n",
              "      <td>norman army</td>\n",
              "      <td>38</td>\n",
              "      <td>39</td>\n",
              "      <td>38</td>\n",
              "      <td>39</td>\n",
              "    </tr>\n",
              "    <tr>\n",
              "      <th>12</th>\n",
              "      <td>high Byzantine officials</td>\n",
              "      <td>high byzantine officials</td>\n",
              "      <td>46</td>\n",
              "      <td>48</td>\n",
              "      <td>46</td>\n",
              "      <td>48</td>\n",
              "    </tr>\n",
              "    <tr>\n",
              "      <th>13</th>\n",
              "      <td>Dyrrachium</td>\n",
              "      <td>dyrrachium</td>\n",
              "      <td>38</td>\n",
              "      <td>42</td>\n",
              "      <td>38</td>\n",
              "      <td>42</td>\n",
              "    </tr>\n",
              "    <tr>\n",
              "      <th>14</th>\n",
              "      <td>Hereford</td>\n",
              "      <td>hereford</td>\n",
              "      <td>39</td>\n",
              "      <td>39</td>\n",
              "      <td>39</td>\n",
              "      <td>39</td>\n",
              "    </tr>\n",
              "    <tr>\n",
              "      <th>15</th>\n",
              "      <td>the Welsh</td>\n",
              "      <td>edward the confessor had set up the aforementi...</td>\n",
              "      <td>55</td>\n",
              "      <td>56</td>\n",
              "      <td>31</td>\n",
              "      <td>56</td>\n",
              "    </tr>\n",
              "    <tr>\n",
              "      <th>16</th>\n",
              "      <td>Edward the Confessor</td>\n",
              "      <td>edward the confessor</td>\n",
              "      <td>25</td>\n",
              "      <td>28</td>\n",
              "      <td>25</td>\n",
              "      <td>28</td>\n",
              "    </tr>\n",
              "    <tr>\n",
              "      <th>17</th>\n",
              "      <td>Normans</td>\n",
              "      <td>the normans</td>\n",
              "      <td>23</td>\n",
              "      <td>24</td>\n",
              "      <td>22</td>\n",
              "      <td>24</td>\n",
              "    </tr>\n",
              "    <tr>\n",
              "      <th>18</th>\n",
              "      <td>Ralph</td>\n",
              "      <td>ralph</td>\n",
              "      <td>37</td>\n",
              "      <td>37</td>\n",
              "      <td>37</td>\n",
              "      <td>37</td>\n",
              "    </tr>\n",
              "    <tr>\n",
              "      <th>19</th>\n",
              "      <td>Wales</td>\n",
              "      <td>wales</td>\n",
              "      <td>70</td>\n",
              "      <td>70</td>\n",
              "      <td>70</td>\n",
              "      <td>70</td>\n",
              "    </tr>\n",
              "  </tbody>\n",
              "</table>\n",
              "</div>"
            ],
            "text/plain": [
              "                        text  ... predicted_end_pos\n",
              "0                     Viking  ...                98\n",
              "1                9th century  ...                91\n",
              "2                  \"Normans\"  ...                41\n",
              "3                9th century  ...                91\n",
              "4           Norman mercenary  ...                21\n",
              "5           Byzantine Greece  ...                17\n",
              "6            George Maniaces  ...                95\n",
              "7        Sicilian expedition  ...                99\n",
              "8                       1185  ...                33\n",
              "9                 Dyrrachium  ...                40\n",
              "10              the Adriatic  ...                72\n",
              "11               Norman army  ...                39\n",
              "12  high Byzantine officials  ...                48\n",
              "13                Dyrrachium  ...                42\n",
              "14                  Hereford  ...                39\n",
              "15                 the Welsh  ...                56\n",
              "16      Edward the Confessor  ...                28\n",
              "17                   Normans  ...                24\n",
              "18                     Ralph  ...                37\n",
              "19                     Wales  ...                70\n",
              "\n",
              "[20 rows x 6 columns]"
            ]
          },
          "metadata": {
            "tags": []
          },
          "execution_count": 51
        }
      ]
    },
    {
      "cell_type": "code",
      "metadata": {
        "id": "ILakV15duG0J",
        "colab_type": "code",
        "outputId": "42934bde-4641-469c-e84a-660fdab56d2b",
        "colab": {
          "base_uri": "https://localhost:8080/",
          "height": 35
        }
      },
      "source": [
        "cond1 = dev_data['predicted_start_pos']>dev_data['predicted_end_pos']\n",
        "cond2 = dev_data['end_pos']<dev_data['predicted_start_pos']\n",
        "cond3 = dev_data['start_pos']>dev_data['predicted_end_pos']\n",
        "\n",
        "incorrect_pred = dev_data[(cond1) | (cond2) | (cond3)].shape[0]\n",
        "incorrect_pred"
      ],
      "execution_count": 52,
      "outputs": [
        {
          "output_type": "execute_result",
          "data": {
            "text/plain": [
              "105"
            ]
          },
          "metadata": {
            "tags": []
          },
          "execution_count": 52
        }
      ]
    },
    {
      "cell_type": "code",
      "metadata": {
        "id": "4sbxdkiqXa95",
        "colab_type": "code",
        "outputId": "42ce87c9-0d0c-4060-d8a5-869e517e6253",
        "colab": {
          "base_uri": "https://localhost:8080/",
          "height": 35
        }
      },
      "source": [
        "t = dev_data.shape[0]\n",
        "print(f\"accuracy = {(t - incorrect_pred)*100/t}\")"
      ],
      "execution_count": 53,
      "outputs": [
        {
          "output_type": "stream",
          "text": [
            "accuracy = 76.87224669603525\n"
          ],
          "name": "stdout"
        }
      ]
    },
    {
      "cell_type": "code",
      "metadata": {
        "id": "03gWJp7IVXNA",
        "colab_type": "code",
        "outputId": "559c913c-9928-4689-e304-2ab4d7f90dd9",
        "colab": {
          "base_uri": "https://localhost:8080/",
          "height": 302
        }
      },
      "source": [
        "dev_data[(cond1) | (cond2) | (cond3)][show_columns].head()"
      ],
      "execution_count": 54,
      "outputs": [
        {
          "output_type": "execute_result",
          "data": {
            "text/html": [
              "<div>\n",
              "<style scoped>\n",
              "    .dataframe tbody tr th:only-of-type {\n",
              "        vertical-align: middle;\n",
              "    }\n",
              "\n",
              "    .dataframe tbody tr th {\n",
              "        vertical-align: top;\n",
              "    }\n",
              "\n",
              "    .dataframe thead th {\n",
              "        text-align: right;\n",
              "    }\n",
              "</style>\n",
              "<table border=\"1\" class=\"dataframe\">\n",
              "  <thead>\n",
              "    <tr style=\"text-align: right;\">\n",
              "      <th></th>\n",
              "      <th>text</th>\n",
              "      <th>predicted_text</th>\n",
              "      <th>start_pos</th>\n",
              "      <th>end_pos</th>\n",
              "      <th>predicted_start_pos</th>\n",
              "      <th>predicted_end_pos</th>\n",
              "    </tr>\n",
              "  </thead>\n",
              "  <tbody>\n",
              "    <tr>\n",
              "      <th>2</th>\n",
              "      <td>\"Normans\"</td>\n",
              "      <td>normant, modern french normand</td>\n",
              "      <td>18</td>\n",
              "      <td>21</td>\n",
              "      <td>35</td>\n",
              "      <td>41</td>\n",
              "    </tr>\n",
              "    <tr>\n",
              "      <th>21</th>\n",
              "      <td>Bernard de Neufmarché, Roger of Montgomery in ...</td>\n",
              "      <td>norman barons</td>\n",
              "      <td>33</td>\n",
              "      <td>50</td>\n",
              "      <td>29</td>\n",
              "      <td>30</td>\n",
              "    </tr>\n",
              "    <tr>\n",
              "      <th>30</th>\n",
              "      <td>Cyprus</td>\n",
              "      <td>anglo - norman forces of the third crusade</td>\n",
              "      <td>13</td>\n",
              "      <td>13</td>\n",
              "      <td>16</td>\n",
              "      <td>23</td>\n",
              "    </tr>\n",
              "    <tr>\n",
              "      <th>33</th>\n",
              "      <td>Canarian islands</td>\n",
              "      <td>lanzarote, fuerteventura and el hierro</td>\n",
              "      <td>43</td>\n",
              "      <td>45</td>\n",
              "      <td>47</td>\n",
              "      <td>60</td>\n",
              "    </tr>\n",
              "    <tr>\n",
              "      <th>38</th>\n",
              "      <td>Maciot de Bethencourt</td>\n",
              "      <td>enrique perez de guzman, 2nd count de niebla</td>\n",
              "      <td>43</td>\n",
              "      <td>48</td>\n",
              "      <td>56</td>\n",
              "      <td>66</td>\n",
              "    </tr>\n",
              "  </tbody>\n",
              "</table>\n",
              "</div>"
            ],
            "text/plain": [
              "                                                 text  ... predicted_end_pos\n",
              "2                                           \"Normans\"  ...                41\n",
              "21  Bernard de Neufmarché, Roger of Montgomery in ...  ...                30\n",
              "30                                             Cyprus  ...                23\n",
              "33                                   Canarian islands  ...                60\n",
              "38                              Maciot de Bethencourt  ...                66\n",
              "\n",
              "[5 rows x 6 columns]"
            ]
          },
          "metadata": {
            "tags": []
          },
          "execution_count": 54
        }
      ]
    },
    {
      "cell_type": "code",
      "metadata": {
        "id": "yBQkmJFQ_lBV",
        "colab_type": "code",
        "colab": {}
      },
      "source": [
        "csv_incorrect = dev_data[(cond1) | (cond2)| (cond3)][show_columns]\n",
        "csv_correct = dev_data.drop(csv_incorrect.index)[show_columns]"
      ],
      "execution_count": 0,
      "outputs": []
    },
    {
      "cell_type": "code",
      "metadata": {
        "id": "j4OqaVyaeTfF",
        "colab_type": "code",
        "colab": {}
      },
      "source": [
        "csv_incorrect.to_csv('csv_incorrect.csv')\n",
        "csv_correct.to_csv('csv_correct.csv')\n"
      ],
      "execution_count": 0,
      "outputs": []
    },
    {
      "cell_type": "code",
      "metadata": {
        "id": "t3seP87qe91S",
        "colab_type": "code",
        "colab": {}
      },
      "source": [
        ""
      ],
      "execution_count": 0,
      "outputs": []
    }
  ]
}